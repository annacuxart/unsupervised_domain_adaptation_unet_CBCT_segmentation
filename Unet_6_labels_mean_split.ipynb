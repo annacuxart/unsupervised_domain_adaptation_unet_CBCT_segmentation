{
 "cells": [
  {
   "cell_type": "markdown",
   "metadata": {},
   "source": [
    "Adapted from https://github.com/pumpikano/tf-dann"
   ]
  },
  {
   "cell_type": "code",
   "execution_count": 1,
   "metadata": {},
   "outputs": [
    {
     "name": "stderr",
     "output_type": "stream",
     "text": [
      "/export/share/anaconda3/lib/python3.6/site-packages/h5py/__init__.py:34: FutureWarning: Conversion of the second argument of issubdtype from `float` to `np.floating` is deprecated. In future, it will be treated as `np.float64 == np.dtype(float).type`.\n",
      "  from ._conv import register_converters as _register_converters\n",
      "Using TensorFlow backend.\n"
     ]
    }
   ],
   "source": [
    "from __future__ import absolute_import\n",
    "from __future__ import division\n",
    "from __future__ import print_function\n",
    "\n",
    "from flip_gradient import flip_gradient\n",
    "from keras.layers import Input, concatenate, Conv3D, MaxPooling3D, Conv3DTranspose, Flatten, Dense\n",
    "\n",
    "import os\n",
    "from tensorflow import set_random_seed\n",
    "import numpy as np\n",
    "os.environ[\"CUDA_VISIBLE_DEVICES\"] = '2'\n",
    "set_random_seed(3)\n",
    "np.random.seed(3)\n",
    "\n",
    "%matplotlib inline\n",
    "\n",
    "import pickle as pkl\n",
    "from sklearn.metrics import f1_score, accuracy_score\n",
    "from keras import backend as K\n",
    "\n",
    "from utils import *\n",
    "\n",
    "import random\n",
    "import statistics"
   ]
  },
  {
   "cell_type": "code",
   "execution_count": 2,
   "metadata": {},
   "outputs": [],
   "source": [
    "params = {'model': 'Unet_6',\n",
    "          'training_mode': 'dann', # source, target or dann\n",
    "          'mu0': 1e-2,\n",
    "          'alpha': 10,\n",
    "          'beta': 1,\n",
    "          'p1': 0.2,\n",
    "          'p2': 0.7,\n",
    "          'l_max': 3,\n",
    "          'lambda': 0,\n",
    "         'num_steps': int(1e4),\n",
    "         'batch_size': 4,\n",
    "         'n_feat_maps': 16,\n",
    "         'psi': 0.01,\n",
    "         'fc': 'cnn'}\n",
    "dest_dir = 'results'\n",
    "save_session = False"
   ]
  },
  {
   "cell_type": "code",
   "execution_count": 3,
   "metadata": {
    "scrolled": false
   },
   "outputs": [],
   "source": [
    "model_X = tf.placeholder(tf.uint8, [None, 40, 40, 32, 1])\n",
    "model_y = tf.placeholder(tf.float32, [None, 40, 40, 32])\n",
    "model_domain = tf.placeholder(tf.float32, [None, 2])\n",
    "model_l = tf.placeholder(tf.float32, [])\n",
    "model_train = tf.placeholder(tf.bool, [])\n",
    "        \n",
    "pixel_mean = 86.62597169503347\n",
    "pixel_std = 15.921692390390666\n",
    "X_input = (tf.cast(model_X, tf.float32) - pixel_mean) / pixel_std\n",
    "        \n",
    "# Downsampling\n",
    "        \n",
    "inputs = X_input\n",
    "conv1 = Conv3D(params['n_feat_maps'], (3, 3, 3), activation='relu', padding='same')(inputs)\n",
    "conv1 = Conv3D(params['n_feat_maps'], (3, 3, 3), activation='relu', padding='same')(conv1)\n",
    "pool1 = MaxPooling3D(pool_size=(2, 2, 2))(conv1)\n",
    "\n",
    "conv2 = Conv3D(params['n_feat_maps'] * 2, (3, 3, 3), activation='relu', padding='same')(pool1)\n",
    "conv2 = Conv3D(params['n_feat_maps'] * 2, (3, 3, 3), activation='relu', padding='same')(conv2)\n",
    "pool2 = MaxPooling3D(pool_size=(2, 2, 2))(conv2)\n",
    "\n",
    "conv3 = Conv3D(params['n_feat_maps'] * 4, (3, 3, 3), activation='relu', padding='same')(pool2)\n",
    "conv3 = Conv3D(params['n_feat_maps'] * 4, (3, 3, 3), activation='relu', padding='same')(conv3)\n",
    "pool3 = MaxPooling3D(pool_size=(2, 2, 2))(conv3)\n",
    "        \n",
    "# Bottleneck and feature extractor\n",
    "\n",
    "conv4 = Conv3D(params['n_feat_maps'] * 8, (3, 3, 3), activation='relu', padding='same')(pool3)\n",
    "conv4 = Conv3D(params['n_feat_maps'] * 8, (3, 3, 3), activation='relu', padding='same')(conv4)\n",
    "              \n",
    "# Upsampling\n",
    "        \n",
    "copy3 = conv3\n",
    "up5 = concatenate(\n",
    "            [Conv3DTranspose(params['n_feat_maps'] * 4, (2, 2, 2), strides=(2, 2, 2), padding='same')(conv4), copy3],\n",
    "            axis=4)\n",
    "conv5 = Conv3D(params['n_feat_maps'] * 4, (3, 3, 3), activation='relu', padding='same')(up5)\n",
    "conv5 = Conv3D(params['n_feat_maps'] * 4, (3, 3, 3), activation='relu', padding='same')(conv5)\n",
    "        \n",
    "copy2 = conv2\n",
    "up6 = concatenate(\n",
    "            [Conv3DTranspose(params['n_feat_maps'] * 2, (2, 2, 2), strides=(2, 2, 2), padding='same')(conv5), copy2],\n",
    "            axis=4)\n",
    "conv6 = Conv3D(params['n_feat_maps'] * 2, (3, 3, 3), activation='relu', padding='same')(up6)\n",
    "conv6 = Conv3D(params['n_feat_maps'] * 2, (3, 3, 3), activation='relu', padding='same')(conv6)\n",
    "model_feature = conv6\n",
    "conv6_all = lambda: conv6\n",
    "conv6_source = lambda: tf.slice(conv6, [0,0,0,0, 0], [params['batch_size']//2, 20,20, 16, params['n_feat_maps'] * 2])\n",
    "conv6 = tf.cond(model_train, conv6_source, conv6_all)\n",
    "\n",
    "copy1_all = lambda: conv1\n",
    "copy1_source = lambda: tf.slice(conv1, [0,0,0,0, 0], [params['batch_size']//2, 40, 40, 32, params['n_feat_maps'] * 1])\n",
    "copy1 = tf.cond(model_train, copy1_source, copy1_all)\n",
    "up7 = concatenate(\n",
    "            [Conv3DTranspose(params['n_feat_maps'] * 1, (2, 2, 2), strides=(2, 2, 2), padding='same')(conv6), copy1],\n",
    "            axis=4)\n",
    "conv7 = Conv3D(params['n_feat_maps'] * 1, (3, 3, 3), activation='relu', padding='same')(up7)\n",
    "conv7 = Conv3D(params['n_feat_maps'] * 1, (3, 3, 3), activation='relu', padding='same')(conv7)\n",
    "\n",
    "conv8 = Conv3D(1, (1,1,1))(conv7)\n",
    "        \n",
    "# === Label predictor ===\n",
    "        \n",
    "all_labels = lambda: model_y\n",
    "source_labels = lambda: tf.slice(model_y, [0,0,0, 0], [params['batch_size']//2, 40, 40, 32])\n",
    "model_classify_labels = tf.cond(model_train, source_labels, all_labels)\n",
    "            \n",
    "logits = tf.squeeze(conv8)\n",
    "model_pred = tf.nn.sigmoid(logits)\n",
    "        \n",
    "model_pred_loss = tf.nn.sigmoid_cross_entropy_with_logits(logits=logits, labels=model_classify_labels)\n",
    "\n",
    "# === Domain classifier ===\n",
    "        \n",
    "feat = flip_gradient(model_feature, model_l)\n",
    "            \n",
    "convA = Conv3D(100, (3,3,3), activation='relu')(feat)\n",
    "convA = Conv3D(100,(3,3,3), activation='relu')(convA)\n",
    "poolA = MaxPooling3D((2,2,2))(convA)\n",
    "convB = Conv3D(100,(3,3,3), activation='relu')(poolA)\n",
    "convB = Conv3D(100,(3,3,3), activation='relu')(convB)\n",
    "fl = Flatten()(convB)\n",
    "dense = Dense(100, activation='relu')(fl)\n",
    "d_logits = Dense(2)(dense)\n",
    "            \n",
    "model_domain_pred = tf.nn.softmax(d_logits)\n",
    "model_domain_loss = tf.nn.softmax_cross_entropy_with_logits(logits=d_logits, labels=model_domain)"
   ]
  },
  {
   "cell_type": "code",
   "execution_count": 4,
   "metadata": {},
   "outputs": [],
   "source": [
    "graph = tf.get_default_graph()\n",
    "with graph.as_default():\n",
    "    learning_rate = tf.placeholder(tf.float32, [])\n",
    "    \n",
    "    pred_loss = tf.reduce_mean(model_pred_loss)\n",
    "    domain_loss = tf.reduce_mean(model_domain_loss)\n",
    "    total_loss = pred_loss + params['psi']*domain_loss\n",
    "\n",
    "    regular_train_op = tf.train.MomentumOptimizer(learning_rate, 0.9).minimize(pred_loss)\n",
    "    dann_train_op = tf.train.MomentumOptimizer(learning_rate, 0.9).minimize(total_loss)\n",
    "    \n",
    "    # Evaluation\n",
    "    correct_label_pred = tf.equal(K.flatten(model_classify_labels), tf.cast(tf.greater(K.flatten(model_pred), 0.5), tf.float32))\n",
    "    label_acc = tf.reduce_mean(tf.cast(correct_label_pred, tf.float32))\n",
    "    correct_domain_pred = tf.equal(tf.argmax(model_domain, 1), tf.argmax(model_domain_pred, 1))\n",
    "    domain_acc = tf.reduce_mean(tf.cast(correct_domain_pred, tf.float32))"
   ]
  },
  {
   "cell_type": "code",
   "execution_count": 5,
   "metadata": {
    "scrolled": false
   },
   "outputs": [
    {
     "name": "stdout",
     "output_type": "stream",
     "text": [
      "Step 0/10000 - pred_loss_train: 6.91e-01 - pred_loss_test: 6.90e-01 - domain_loss_train: 6.94e-01 - domain_loss_test: 6.94e-01 - loss_train: 1.38e+00 - loss_test: 1.38e+00 - d_acc_train: 4.64e-01 - d_acc_test: 3.39e-01\n"
     ]
    },
    {
     "name": "stderr",
     "output_type": "stream",
     "text": [
      "/export/share/anaconda3/lib/python3.6/site-packages/sklearn/metrics/classification.py:1135: UndefinedMetricWarning: F-score is ill-defined and being set to 0.0 due to no predicted samples.\n",
      "  'precision', 'predicted', average, warn_for)\n"
     ]
    },
    {
     "name": "stdout",
     "output_type": "stream",
     "text": [
      "Step 100/10000 - pred_loss_train: 1.83e-01 - pred_loss_test: 1.85e-01 - domain_loss_train: 6.93e-01 - domain_loss_test: 6.93e-01 - loss_train: 8.75e-01 - loss_test: 8.79e-01 - d_acc_train: 5.36e-01 - d_acc_test: 4.29e-01\n",
      "Step 200/10000 - pred_loss_train: 1.68e-01 - pred_loss_test: 1.64e-01 - domain_loss_train: 6.92e-01 - domain_loss_test: 6.93e-01 - loss_train: 8.59e-01 - loss_test: 8.57e-01 - d_acc_train: 5.54e-01 - d_acc_test: 5.54e-01\n",
      "Step 300/10000 - pred_loss_train: 1.50e-01 - pred_loss_test: 1.41e-01 - domain_loss_train: 6.90e-01 - domain_loss_test: 6.92e-01 - loss_train: 8.40e-01 - loss_test: 8.32e-01 - d_acc_train: 6.25e-01 - d_acc_test: 5.36e-01\n",
      "Step 400/10000 - pred_loss_train: 1.46e-01 - pred_loss_test: 1.27e-01 - domain_loss_train: 6.90e-01 - domain_loss_test: 6.91e-01 - loss_train: 8.36e-01 - loss_test: 8.18e-01 - d_acc_train: 6.07e-01 - d_acc_test: 5.36e-01\n",
      "Step 500/10000 - pred_loss_train: 1.58e-01 - pred_loss_test: 1.32e-01 - domain_loss_train: 6.87e-01 - domain_loss_test: 6.88e-01 - loss_train: 8.45e-01 - loss_test: 8.21e-01 - d_acc_train: 5.89e-01 - d_acc_test: 5.36e-01\n",
      "Step 600/10000 - pred_loss_train: 1.43e-01 - pred_loss_test: 1.36e-01 - domain_loss_train: 6.82e-01 - domain_loss_test: 6.80e-01 - loss_train: 8.25e-01 - loss_test: 8.16e-01 - d_acc_train: 5.00e-01 - d_acc_test: 5.00e-01\n",
      "Step 700/10000 - pred_loss_train: 1.17e-01 - pred_loss_test: 1.10e-01 - domain_loss_train: 6.52e-01 - domain_loss_test: 6.40e-01 - loss_train: 7.69e-01 - loss_test: 7.49e-01 - d_acc_train: 5.71e-01 - d_acc_test: 4.82e-01\n",
      "Step 800/10000 - pred_loss_train: 1.09e-01 - pred_loss_test: 1.08e-01 - domain_loss_train: 6.53e-01 - domain_loss_test: 6.34e-01 - loss_train: 7.62e-01 - loss_test: 7.43e-01 - d_acc_train: 7.86e-01 - d_acc_test: 6.25e-01\n",
      "Step 900/10000 - pred_loss_train: 1.31e-01 - pred_loss_test: 1.25e-01 - domain_loss_train: 6.88e-01 - domain_loss_test: 6.84e-01 - loss_train: 8.19e-01 - loss_test: 8.09e-01 - d_acc_train: 5.00e-01 - d_acc_test: 5.00e-01\n",
      "Step 1000/10000 - pred_loss_train: 7.95e-02 - pred_loss_test: 7.51e-02 - domain_loss_train: 6.72e-01 - domain_loss_test: 6.81e-01 - loss_train: 7.52e-01 - loss_test: 7.56e-01 - d_acc_train: 6.07e-01 - d_acc_test: 6.07e-01\n",
      "Step 1100/10000 - pred_loss_train: 5.50e-02 - pred_loss_test: 4.82e-02 - domain_loss_train: 6.56e-01 - domain_loss_test: 6.66e-01 - loss_train: 7.11e-01 - loss_test: 7.14e-01 - d_acc_train: 7.14e-01 - d_acc_test: 6.96e-01\n",
      "Step 1200/10000 - pred_loss_train: 6.85e-02 - pred_loss_test: 5.69e-02 - domain_loss_train: 6.43e-01 - domain_loss_test: 6.44e-01 - loss_train: 7.11e-01 - loss_test: 7.01e-01 - d_acc_train: 6.96e-01 - d_acc_test: 7.32e-01\n",
      "Step 1300/10000 - pred_loss_train: 5.16e-02 - pred_loss_test: 4.02e-02 - domain_loss_train: 6.05e-01 - domain_loss_test: 6.00e-01 - loss_train: 6.57e-01 - loss_test: 6.40e-01 - d_acc_train: 7.68e-01 - d_acc_test: 8.21e-01\n",
      "Step 1400/10000 - pred_loss_train: 4.14e-02 - pred_loss_test: 4.00e-02 - domain_loss_train: 5.20e-01 - domain_loss_test: 5.33e-01 - loss_train: 5.61e-01 - loss_test: 5.73e-01 - d_acc_train: 9.11e-01 - d_acc_test: 8.57e-01\n",
      "Step 1500/10000 - pred_loss_train: 4.12e-02 - pred_loss_test: 3.49e-02 - domain_loss_train: 4.57e-01 - domain_loss_test: 4.60e-01 - loss_train: 4.98e-01 - loss_test: 4.95e-01 - d_acc_train: 8.93e-01 - d_acc_test: 8.39e-01\n",
      "Step 1600/10000 - pred_loss_train: 3.59e-02 - pred_loss_test: 3.37e-02 - domain_loss_train: 3.88e-01 - domain_loss_test: 4.11e-01 - loss_train: 4.24e-01 - loss_test: 4.44e-01 - d_acc_train: 8.75e-01 - d_acc_test: 8.21e-01\n",
      "Step 1700/10000 - pred_loss_train: 5.44e-02 - pred_loss_test: 5.83e-02 - domain_loss_train: 4.01e-01 - domain_loss_test: 4.18e-01 - loss_train: 4.55e-01 - loss_test: 4.76e-01 - d_acc_train: 8.21e-01 - d_acc_test: 8.39e-01\n",
      "Step 1800/10000 - pred_loss_train: 3.55e-02 - pred_loss_test: 3.65e-02 - domain_loss_train: 3.64e-01 - domain_loss_test: 3.54e-01 - loss_train: 4.00e-01 - loss_test: 3.91e-01 - d_acc_train: 8.21e-01 - d_acc_test: 8.57e-01\n",
      "Step 1900/10000 - pred_loss_train: 3.26e-02 - pred_loss_test: 3.06e-02 - domain_loss_train: 3.79e-01 - domain_loss_test: 3.60e-01 - loss_train: 4.11e-01 - loss_test: 3.91e-01 - d_acc_train: 8.57e-01 - d_acc_test: 8.04e-01\n",
      "Step 2000/10000 - pred_loss_train: 3.08e-02 - pred_loss_test: 3.31e-02 - domain_loss_train: 3.13e-01 - domain_loss_test: 3.51e-01 - loss_train: 3.43e-01 - loss_test: 3.84e-01 - d_acc_train: 8.21e-01 - d_acc_test: 8.39e-01\n",
      "Step 2100/10000 - pred_loss_train: 2.91e-02 - pred_loss_test: 3.01e-02 - domain_loss_train: 3.04e-01 - domain_loss_test: 3.29e-01 - loss_train: 3.33e-01 - loss_test: 3.59e-01 - d_acc_train: 8.21e-01 - d_acc_test: 8.21e-01\n",
      "Step 2200/10000 - pred_loss_train: 2.87e-02 - pred_loss_test: 2.91e-02 - domain_loss_train: 3.49e-01 - domain_loss_test: 2.80e-01 - loss_train: 3.77e-01 - loss_test: 3.10e-01 - d_acc_train: 8.57e-01 - d_acc_test: 8.93e-01\n",
      "Step 2300/10000 - pred_loss_train: 2.73e-02 - pred_loss_test: 2.94e-02 - domain_loss_train: 3.31e-01 - domain_loss_test: 2.73e-01 - loss_train: 3.59e-01 - loss_test: 3.02e-01 - d_acc_train: 8.75e-01 - d_acc_test: 9.11e-01\n",
      "Step 2400/10000 - pred_loss_train: 3.20e-02 - pred_loss_test: 2.72e-02 - domain_loss_train: 3.18e-01 - domain_loss_test: 3.06e-01 - loss_train: 3.50e-01 - loss_test: 3.33e-01 - d_acc_train: 8.75e-01 - d_acc_test: 8.57e-01\n",
      "Step 2500/10000 - pred_loss_train: 2.61e-02 - pred_loss_test: 2.83e-02 - domain_loss_train: 3.36e-01 - domain_loss_test: 3.15e-01 - loss_train: 3.62e-01 - loss_test: 3.43e-01 - d_acc_train: 8.39e-01 - d_acc_test: 8.39e-01\n",
      "Step 2600/10000 - pred_loss_train: 2.37e-02 - pred_loss_test: 2.77e-02 - domain_loss_train: 4.05e-01 - domain_loss_test: 3.04e-01 - loss_train: 4.28e-01 - loss_test: 3.32e-01 - d_acc_train: 8.21e-01 - d_acc_test: 8.57e-01\n",
      "Step 2700/10000 - pred_loss_train: 2.40e-02 - pred_loss_test: 2.70e-02 - domain_loss_train: 2.97e-01 - domain_loss_test: 3.14e-01 - loss_train: 3.21e-01 - loss_test: 3.41e-01 - d_acc_train: 8.57e-01 - d_acc_test: 8.39e-01\n",
      "Step 2800/10000 - pred_loss_train: 2.14e-02 - pred_loss_test: 2.66e-02 - domain_loss_train: 3.20e-01 - domain_loss_test: 3.08e-01 - loss_train: 3.41e-01 - loss_test: 3.35e-01 - d_acc_train: 8.39e-01 - d_acc_test: 8.39e-01\n",
      "Step 2900/10000 - pred_loss_train: 2.12e-02 - pred_loss_test: 2.73e-02 - domain_loss_train: 3.14e-01 - domain_loss_test: 2.91e-01 - loss_train: 3.35e-01 - loss_test: 3.19e-01 - d_acc_train: 8.57e-01 - d_acc_test: 8.39e-01\n",
      "Step 3000/10000 - pred_loss_train: 2.35e-02 - pred_loss_test: 2.66e-02 - domain_loss_train: 3.27e-01 - domain_loss_test: 2.82e-01 - loss_train: 3.51e-01 - loss_test: 3.09e-01 - d_acc_train: 8.39e-01 - d_acc_test: 8.39e-01\n",
      "Step 3100/10000 - pred_loss_train: 2.18e-02 - pred_loss_test: 2.72e-02 - domain_loss_train: 3.27e-01 - domain_loss_test: 3.14e-01 - loss_train: 3.49e-01 - loss_test: 3.41e-01 - d_acc_train: 8.39e-01 - d_acc_test: 8.39e-01\n",
      "Step 3200/10000 - pred_loss_train: 2.35e-02 - pred_loss_test: 3.00e-02 - domain_loss_train: 2.74e-01 - domain_loss_test: 2.86e-01 - loss_train: 2.97e-01 - loss_test: 3.16e-01 - d_acc_train: 8.93e-01 - d_acc_test: 8.39e-01\n",
      "Step 3300/10000 - pred_loss_train: 1.91e-02 - pred_loss_test: 2.63e-02 - domain_loss_train: 3.07e-01 - domain_loss_test: 3.13e-01 - loss_train: 3.26e-01 - loss_test: 3.39e-01 - d_acc_train: 8.57e-01 - d_acc_test: 8.39e-01\n",
      "Step 3400/10000 - pred_loss_train: 1.93e-02 - pred_loss_test: 2.74e-02 - domain_loss_train: 3.48e-01 - domain_loss_test: 3.25e-01 - loss_train: 3.67e-01 - loss_test: 3.53e-01 - d_acc_train: 8.21e-01 - d_acc_test: 8.21e-01\n",
      "Step 3500/10000 - pred_loss_train: 1.96e-02 - pred_loss_test: 2.80e-02 - domain_loss_train: 3.00e-01 - domain_loss_test: 3.07e-01 - loss_train: 3.20e-01 - loss_test: 3.35e-01 - d_acc_train: 8.57e-01 - d_acc_test: 8.21e-01\n",
      "Step 3600/10000 - pred_loss_train: 2.03e-02 - pred_loss_test: 2.65e-02 - domain_loss_train: 3.69e-01 - domain_loss_test: 2.75e-01 - loss_train: 3.89e-01 - loss_test: 3.01e-01 - d_acc_train: 8.04e-01 - d_acc_test: 8.57e-01\n",
      "Step 3700/10000 - pred_loss_train: 1.90e-02 - pred_loss_test: 2.66e-02 - domain_loss_train: 3.07e-01 - domain_loss_test: 2.83e-01 - loss_train: 3.26e-01 - loss_test: 3.10e-01 - d_acc_train: 8.75e-01 - d_acc_test: 8.57e-01\n"
     ]
    },
    {
     "name": "stdout",
     "output_type": "stream",
     "text": [
      "Step 3800/10000 - pred_loss_train: 1.72e-02 - pred_loss_test: 2.75e-02 - domain_loss_train: 3.61e-01 - domain_loss_test: 2.65e-01 - loss_train: 3.78e-01 - loss_test: 2.93e-01 - d_acc_train: 8.57e-01 - d_acc_test: 8.57e-01\n",
      "Step 3900/10000 - pred_loss_train: 1.69e-02 - pred_loss_test: 2.59e-02 - domain_loss_train: 3.32e-01 - domain_loss_test: 3.14e-01 - loss_train: 3.49e-01 - loss_test: 3.40e-01 - d_acc_train: 7.86e-01 - d_acc_test: 8.21e-01\n",
      "Step 4000/10000 - pred_loss_train: 1.89e-02 - pred_loss_test: 2.67e-02 - domain_loss_train: 3.18e-01 - domain_loss_test: 3.12e-01 - loss_train: 3.37e-01 - loss_test: 3.39e-01 - d_acc_train: 8.39e-01 - d_acc_test: 8.39e-01\n",
      "Step 4100/10000 - pred_loss_train: 1.67e-02 - pred_loss_test: 2.71e-02 - domain_loss_train: 3.69e-01 - domain_loss_test: 3.04e-01 - loss_train: 3.85e-01 - loss_test: 3.31e-01 - d_acc_train: 7.86e-01 - d_acc_test: 8.21e-01\n",
      "Step 4200/10000 - pred_loss_train: 1.69e-02 - pred_loss_test: 2.69e-02 - domain_loss_train: 3.15e-01 - domain_loss_test: 3.11e-01 - loss_train: 3.32e-01 - loss_test: 3.38e-01 - d_acc_train: 8.57e-01 - d_acc_test: 8.39e-01\n",
      "Step 4300/10000 - pred_loss_train: 1.75e-02 - pred_loss_test: 2.73e-02 - domain_loss_train: 3.24e-01 - domain_loss_test: 3.24e-01 - loss_train: 3.41e-01 - loss_test: 3.52e-01 - d_acc_train: 8.57e-01 - d_acc_test: 8.04e-01\n",
      "Step 4400/10000 - pred_loss_train: 1.73e-02 - pred_loss_test: 2.68e-02 - domain_loss_train: 2.93e-01 - domain_loss_test: 2.89e-01 - loss_train: 3.10e-01 - loss_test: 3.16e-01 - d_acc_train: 8.75e-01 - d_acc_test: 8.39e-01\n",
      "Step 4500/10000 - pred_loss_train: 1.68e-02 - pred_loss_test: 2.67e-02 - domain_loss_train: 2.94e-01 - domain_loss_test: 2.90e-01 - loss_train: 3.11e-01 - loss_test: 3.16e-01 - d_acc_train: 8.57e-01 - d_acc_test: 8.39e-01\n",
      "Step 4600/10000 - pred_loss_train: 1.85e-02 - pred_loss_test: 2.91e-02 - domain_loss_train: 2.80e-01 - domain_loss_test: 3.12e-01 - loss_train: 2.98e-01 - loss_test: 3.41e-01 - d_acc_train: 8.57e-01 - d_acc_test: 8.21e-01\n",
      "Step 4700/10000 - pred_loss_train: 1.76e-02 - pred_loss_test: 2.79e-02 - domain_loss_train: 2.52e-01 - domain_loss_test: 2.90e-01 - loss_train: 2.69e-01 - loss_test: 3.17e-01 - d_acc_train: 8.57e-01 - d_acc_test: 8.57e-01\n",
      "Step 4800/10000 - pred_loss_train: 1.59e-02 - pred_loss_test: 2.67e-02 - domain_loss_train: 2.75e-01 - domain_loss_test: 3.10e-01 - loss_train: 2.91e-01 - loss_test: 3.37e-01 - d_acc_train: 8.57e-01 - d_acc_test: 8.21e-01\n",
      "Step 4900/10000 - pred_loss_train: 1.64e-02 - pred_loss_test: 2.56e-02 - domain_loss_train: 2.99e-01 - domain_loss_test: 3.16e-01 - loss_train: 3.16e-01 - loss_test: 3.42e-01 - d_acc_train: 8.39e-01 - d_acc_test: 8.39e-01\n",
      "Step 5000/10000 - pred_loss_train: 1.73e-02 - pred_loss_test: 2.90e-02 - domain_loss_train: 2.93e-01 - domain_loss_test: 3.23e-01 - loss_train: 3.10e-01 - loss_test: 3.52e-01 - d_acc_train: 8.75e-01 - d_acc_test: 8.04e-01\n",
      "Step 5100/10000 - pred_loss_train: 1.56e-02 - pred_loss_test: 2.69e-02 - domain_loss_train: 3.31e-01 - domain_loss_test: 2.91e-01 - loss_train: 3.46e-01 - loss_test: 3.18e-01 - d_acc_train: 8.75e-01 - d_acc_test: 8.21e-01\n",
      "Step 5200/10000 - pred_loss_train: 2.02e-02 - pred_loss_test: 3.27e-02 - domain_loss_train: 2.40e-01 - domain_loss_test: 3.05e-01 - loss_train: 2.60e-01 - loss_test: 3.38e-01 - d_acc_train: 9.29e-01 - d_acc_test: 8.39e-01\n",
      "Step 5300/10000 - pred_loss_train: 1.51e-02 - pred_loss_test: 2.68e-02 - domain_loss_train: 3.03e-01 - domain_loss_test: 2.51e-01 - loss_train: 3.18e-01 - loss_test: 2.78e-01 - d_acc_train: 8.75e-01 - d_acc_test: 8.39e-01\n",
      "Step 5400/10000 - pred_loss_train: 1.56e-02 - pred_loss_test: 2.47e-02 - domain_loss_train: 2.76e-01 - domain_loss_test: 3.26e-01 - loss_train: 2.92e-01 - loss_test: 3.50e-01 - d_acc_train: 8.57e-01 - d_acc_test: 8.21e-01\n",
      "Step 5500/10000 - pred_loss_train: 1.48e-02 - pred_loss_test: 2.47e-02 - domain_loss_train: 2.52e-01 - domain_loss_test: 2.96e-01 - loss_train: 2.67e-01 - loss_test: 3.21e-01 - d_acc_train: 8.75e-01 - d_acc_test: 8.21e-01\n",
      "Step 5600/10000 - pred_loss_train: 1.63e-02 - pred_loss_test: 2.61e-02 - domain_loss_train: 1.91e-01 - domain_loss_test: 3.10e-01 - loss_train: 2.07e-01 - loss_test: 3.36e-01 - d_acc_train: 8.93e-01 - d_acc_test: 8.39e-01\n",
      "Step 5700/10000 - pred_loss_train: 1.52e-02 - pred_loss_test: 2.61e-02 - domain_loss_train: 2.60e-01 - domain_loss_test: 3.09e-01 - loss_train: 2.75e-01 - loss_test: 3.35e-01 - d_acc_train: 8.57e-01 - d_acc_test: 8.04e-01\n",
      "Step 5800/10000 - pred_loss_train: 1.31e-02 - pred_loss_test: 2.57e-02 - domain_loss_train: 2.52e-01 - domain_loss_test: 3.20e-01 - loss_train: 2.65e-01 - loss_test: 3.45e-01 - d_acc_train: 9.11e-01 - d_acc_test: 8.04e-01\n",
      "Step 5900/10000 - pred_loss_train: 1.49e-02 - pred_loss_test: 2.59e-02 - domain_loss_train: 1.97e-01 - domain_loss_test: 2.86e-01 - loss_train: 2.12e-01 - loss_test: 3.12e-01 - d_acc_train: 9.82e-01 - d_acc_test: 8.21e-01\n",
      "Step 6000/10000 - pred_loss_train: 1.42e-02 - pred_loss_test: 2.54e-02 - domain_loss_train: 2.36e-01 - domain_loss_test: 3.00e-01 - loss_train: 2.51e-01 - loss_test: 3.26e-01 - d_acc_train: 9.11e-01 - d_acc_test: 8.21e-01\n",
      "Step 6100/10000 - pred_loss_train: 1.34e-02 - pred_loss_test: 2.62e-02 - domain_loss_train: 2.47e-01 - domain_loss_test: 3.15e-01 - loss_train: 2.60e-01 - loss_test: 3.42e-01 - d_acc_train: 8.75e-01 - d_acc_test: 8.04e-01\n",
      "Step 6200/10000 - pred_loss_train: 1.37e-02 - pred_loss_test: 2.76e-02 - domain_loss_train: 2.42e-01 - domain_loss_test: 3.02e-01 - loss_train: 2.56e-01 - loss_test: 3.29e-01 - d_acc_train: 8.93e-01 - d_acc_test: 8.21e-01\n",
      "Step 6300/10000 - pred_loss_train: 1.41e-02 - pred_loss_test: 2.61e-02 - domain_loss_train: 1.95e-01 - domain_loss_test: 3.00e-01 - loss_train: 2.09e-01 - loss_test: 3.26e-01 - d_acc_train: 9.46e-01 - d_acc_test: 8.21e-01\n",
      "Step 6400/10000 - pred_loss_train: 1.41e-02 - pred_loss_test: 2.51e-02 - domain_loss_train: 2.16e-01 - domain_loss_test: 3.13e-01 - loss_train: 2.30e-01 - loss_test: 3.38e-01 - d_acc_train: 9.46e-01 - d_acc_test: 8.04e-01\n",
      "Step 6500/10000 - pred_loss_train: 1.34e-02 - pred_loss_test: 2.53e-02 - domain_loss_train: 2.20e-01 - domain_loss_test: 3.14e-01 - loss_train: 2.34e-01 - loss_test: 3.39e-01 - d_acc_train: 9.29e-01 - d_acc_test: 8.04e-01\n",
      "Step 6600/10000 - pred_loss_train: 1.36e-02 - pred_loss_test: 2.54e-02 - domain_loss_train: 2.06e-01 - domain_loss_test: 2.83e-01 - loss_train: 2.20e-01 - loss_test: 3.09e-01 - d_acc_train: 9.29e-01 - d_acc_test: 8.21e-01\n",
      "Step 6700/10000 - pred_loss_train: 1.36e-02 - pred_loss_test: 2.77e-02 - domain_loss_train: 2.22e-01 - domain_loss_test: 2.92e-01 - loss_train: 2.35e-01 - loss_test: 3.19e-01 - d_acc_train: 9.46e-01 - d_acc_test: 8.39e-01\n",
      "Step 6800/10000 - pred_loss_train: 1.33e-02 - pred_loss_test: 2.62e-02 - domain_loss_train: 2.21e-01 - domain_loss_test: 2.34e-01 - loss_train: 2.34e-01 - loss_test: 2.60e-01 - d_acc_train: 9.29e-01 - d_acc_test: 8.57e-01\n",
      "Step 6900/10000 - pred_loss_train: 1.24e-02 - pred_loss_test: 2.44e-02 - domain_loss_train: 2.50e-01 - domain_loss_test: 3.14e-01 - loss_train: 2.62e-01 - loss_test: 3.39e-01 - d_acc_train: 8.75e-01 - d_acc_test: 8.21e-01\n",
      "Step 7000/10000 - pred_loss_train: 1.36e-02 - pred_loss_test: 2.55e-02 - domain_loss_train: 1.91e-01 - domain_loss_test: 2.94e-01 - loss_train: 2.05e-01 - loss_test: 3.20e-01 - d_acc_train: 9.29e-01 - d_acc_test: 8.21e-01\n",
      "Step 7100/10000 - pred_loss_train: 1.21e-02 - pred_loss_test: 2.68e-02 - domain_loss_train: 2.07e-01 - domain_loss_test: 3.15e-01 - loss_train: 2.19e-01 - loss_test: 3.42e-01 - d_acc_train: 9.11e-01 - d_acc_test: 8.04e-01\n",
      "Step 7200/10000 - pred_loss_train: 1.27e-02 - pred_loss_test: 2.58e-02 - domain_loss_train: 1.37e-01 - domain_loss_test: 3.20e-01 - loss_train: 1.50e-01 - loss_test: 3.46e-01 - d_acc_train: 9.64e-01 - d_acc_test: 8.04e-01\n",
      "Step 7300/10000 - pred_loss_train: 1.26e-02 - pred_loss_test: 2.47e-02 - domain_loss_train: 1.65e-01 - domain_loss_test: 3.21e-01 - loss_train: 1.78e-01 - loss_test: 3.45e-01 - d_acc_train: 9.46e-01 - d_acc_test: 8.04e-01\n",
      "Step 7400/10000 - pred_loss_train: 1.22e-02 - pred_loss_test: 2.56e-02 - domain_loss_train: 1.39e-01 - domain_loss_test: 3.08e-01 - loss_train: 1.52e-01 - loss_test: 3.34e-01 - d_acc_train: 9.82e-01 - d_acc_test: 8.21e-01\n"
     ]
    },
    {
     "name": "stdout",
     "output_type": "stream",
     "text": [
      "Step 7500/10000 - pred_loss_train: 1.27e-02 - pred_loss_test: 2.56e-02 - domain_loss_train: 1.63e-01 - domain_loss_test: 2.92e-01 - loss_train: 1.76e-01 - loss_test: 3.18e-01 - d_acc_train: 9.46e-01 - d_acc_test: 8.21e-01\n",
      "Step 7600/10000 - pred_loss_train: 1.21e-02 - pred_loss_test: 2.71e-02 - domain_loss_train: 1.58e-01 - domain_loss_test: 3.12e-01 - loss_train: 1.70e-01 - loss_test: 3.39e-01 - d_acc_train: 9.64e-01 - d_acc_test: 8.21e-01\n",
      "Step 7700/10000 - pred_loss_train: 1.18e-02 - pred_loss_test: 2.62e-02 - domain_loss_train: 1.83e-01 - domain_loss_test: 2.99e-01 - loss_train: 1.95e-01 - loss_test: 3.25e-01 - d_acc_train: 9.29e-01 - d_acc_test: 8.21e-01\n",
      "Step 7800/10000 - pred_loss_train: 1.37e-02 - pred_loss_test: 2.49e-02 - domain_loss_train: 1.47e-01 - domain_loss_test: 3.01e-01 - loss_train: 1.61e-01 - loss_test: 3.26e-01 - d_acc_train: 9.46e-01 - d_acc_test: 8.39e-01\n",
      "Step 7900/10000 - pred_loss_train: 1.26e-02 - pred_loss_test: 2.49e-02 - domain_loss_train: 1.45e-01 - domain_loss_test: 3.25e-01 - loss_train: 1.57e-01 - loss_test: 3.50e-01 - d_acc_train: 9.64e-01 - d_acc_test: 8.04e-01\n",
      "Step 8000/10000 - pred_loss_train: 1.20e-02 - pred_loss_test: 2.65e-02 - domain_loss_train: 1.64e-01 - domain_loss_test: 3.16e-01 - loss_train: 1.76e-01 - loss_test: 3.42e-01 - d_acc_train: 9.29e-01 - d_acc_test: 8.21e-01\n",
      "Step 8100/10000 - pred_loss_train: 1.21e-02 - pred_loss_test: 2.61e-02 - domain_loss_train: 1.28e-01 - domain_loss_test: 2.80e-01 - loss_train: 1.40e-01 - loss_test: 3.06e-01 - d_acc_train: 1.00e+00 - d_acc_test: 8.39e-01\n",
      "Step 8200/10000 - pred_loss_train: 1.21e-02 - pred_loss_test: 2.55e-02 - domain_loss_train: 1.73e-01 - domain_loss_test: 2.95e-01 - loss_train: 1.85e-01 - loss_test: 3.21e-01 - d_acc_train: 9.11e-01 - d_acc_test: 8.39e-01\n",
      "Step 8300/10000 - pred_loss_train: 1.21e-02 - pred_loss_test: 2.59e-02 - domain_loss_train: 1.68e-01 - domain_loss_test: 2.08e-01 - loss_train: 1.80e-01 - loss_test: 2.34e-01 - d_acc_train: 9.46e-01 - d_acc_test: 8.75e-01\n",
      "Step 8400/10000 - pred_loss_train: 1.19e-02 - pred_loss_test: 2.36e-02 - domain_loss_train: 1.30e-01 - domain_loss_test: 3.36e-01 - loss_train: 1.42e-01 - loss_test: 3.60e-01 - d_acc_train: 9.46e-01 - d_acc_test: 8.21e-01\n",
      "Step 8500/10000 - pred_loss_train: 1.18e-02 - pred_loss_test: 2.41e-02 - domain_loss_train: 1.37e-01 - domain_loss_test: 2.87e-01 - loss_train: 1.48e-01 - loss_test: 3.11e-01 - d_acc_train: 9.64e-01 - d_acc_test: 8.39e-01\n",
      "Step 8600/10000 - pred_loss_train: 1.26e-02 - pred_loss_test: 2.62e-02 - domain_loss_train: 1.86e-01 - domain_loss_test: 3.43e-01 - loss_train: 1.98e-01 - loss_test: 3.69e-01 - d_acc_train: 8.93e-01 - d_acc_test: 8.21e-01\n",
      "Step 8700/10000 - pred_loss_train: 1.13e-02 - pred_loss_test: 2.56e-02 - domain_loss_train: 1.27e-01 - domain_loss_test: 3.39e-01 - loss_train: 1.38e-01 - loss_test: 3.64e-01 - d_acc_train: 9.64e-01 - d_acc_test: 8.21e-01\n",
      "Step 8800/10000 - pred_loss_train: 1.09e-02 - pred_loss_test: 2.54e-02 - domain_loss_train: 1.77e-01 - domain_loss_test: 3.43e-01 - loss_train: 1.88e-01 - loss_test: 3.68e-01 - d_acc_train: 8.93e-01 - d_acc_test: 8.21e-01\n",
      "Step 8900/10000 - pred_loss_train: 1.08e-02 - pred_loss_test: 2.49e-02 - domain_loss_train: 1.46e-01 - domain_loss_test: 3.17e-01 - loss_train: 1.57e-01 - loss_test: 3.41e-01 - d_acc_train: 9.64e-01 - d_acc_test: 8.39e-01\n",
      "Step 9000/10000 - pred_loss_train: 1.14e-02 - pred_loss_test: 2.51e-02 - domain_loss_train: 1.30e-01 - domain_loss_test: 3.06e-01 - loss_train: 1.41e-01 - loss_test: 3.31e-01 - d_acc_train: 9.29e-01 - d_acc_test: 8.39e-01\n",
      "Step 9100/10000 - pred_loss_train: 1.02e-02 - pred_loss_test: 2.56e-02 - domain_loss_train: 1.39e-01 - domain_loss_test: 3.36e-01 - loss_train: 1.49e-01 - loss_test: 3.61e-01 - d_acc_train: 9.64e-01 - d_acc_test: 8.21e-01\n",
      "Step 9200/10000 - pred_loss_train: 1.13e-02 - pred_loss_test: 2.66e-02 - domain_loss_train: 1.32e-01 - domain_loss_test: 3.18e-01 - loss_train: 1.43e-01 - loss_test: 3.44e-01 - d_acc_train: 9.29e-01 - d_acc_test: 8.39e-01\n",
      "Step 9300/10000 - pred_loss_train: 1.11e-02 - pred_loss_test: 2.58e-02 - domain_loss_train: 1.14e-01 - domain_loss_test: 3.15e-01 - loss_train: 1.25e-01 - loss_test: 3.41e-01 - d_acc_train: 9.46e-01 - d_acc_test: 8.39e-01\n",
      "Step 9400/10000 - pred_loss_train: 9.94e-03 - pred_loss_test: 2.44e-02 - domain_loss_train: 1.34e-01 - domain_loss_test: 3.35e-01 - loss_train: 1.44e-01 - loss_test: 3.60e-01 - d_acc_train: 9.46e-01 - d_acc_test: 8.21e-01\n",
      "Step 9500/10000 - pred_loss_train: 1.11e-02 - pred_loss_test: 2.55e-02 - domain_loss_train: 1.28e-01 - domain_loss_test: 3.24e-01 - loss_train: 1.39e-01 - loss_test: 3.50e-01 - d_acc_train: 9.64e-01 - d_acc_test: 8.39e-01\n",
      "Step 9600/10000 - pred_loss_train: 1.08e-02 - pred_loss_test: 2.59e-02 - domain_loss_train: 1.51e-01 - domain_loss_test: 2.80e-01 - loss_train: 1.62e-01 - loss_test: 3.06e-01 - d_acc_train: 9.64e-01 - d_acc_test: 8.57e-01\n",
      "Step 9700/10000 - pred_loss_train: 1.07e-02 - pred_loss_test: 2.55e-02 - domain_loss_train: 1.33e-01 - domain_loss_test: 3.04e-01 - loss_train: 1.44e-01 - loss_test: 3.30e-01 - d_acc_train: 9.46e-01 - d_acc_test: 8.57e-01\n",
      "Step 9800/10000 - pred_loss_train: 1.06e-02 - pred_loss_test: 2.62e-02 - domain_loss_train: 1.45e-01 - domain_loss_test: 2.12e-01 - loss_train: 1.55e-01 - loss_test: 2.38e-01 - d_acc_train: 9.29e-01 - d_acc_test: 8.93e-01\n",
      "Step 9900/10000 - pred_loss_train: 1.10e-02 - pred_loss_test: 2.45e-02 - domain_loss_train: 1.54e-01 - domain_loss_test: 3.30e-01 - loss_train: 1.65e-01 - loss_test: 3.55e-01 - d_acc_train: 9.82e-01 - d_acc_test: 8.39e-01\n"
     ]
    }
   ],
   "source": [
    "saver = tf.train.Saver()\n",
    "verbose = 1\n",
    "training_mode = params['training_mode']\n",
    "with tf.Session(graph=graph) as sess:\n",
    "    tf.global_variables_initializer().run()\n",
    "\n",
    "    filenames = ['ct_train_'+str(ind) for ind in range(30)]\n",
    "    gen_source_only_batch_train = batch_generator_files(filenames, params['batch_size'], shuffle=True)\n",
    "    gen_source_batch_train = batch_generator_files(filenames, params['batch_size'] // 2, shuffle=True)\n",
    "\n",
    "    filenames = ['ct_test_'+str(ind) for ind in range(30)]\n",
    "    gen_source_only_batch_test = batch_generator_files(filenames, params['batch_size'], shuffle=False)\n",
    "    gen_source_batch_test = batch_generator_files(filenames, params['batch_size'] // 2, shuffle=False)\n",
    "\n",
    "    filenames = ['cbct_train_'+str(ind) for ind in range(30)]\n",
    "    gen_target_only_batch_train = batch_generator_files(filenames, params['batch_size'], shuffle=True)\n",
    "    gen_target_batch_train = batch_generator_files(filenames, params['batch_size'] // 2, shuffle=True)\n",
    "\n",
    "    filenames = ['cbct_test_'+str(ind) for ind in range(30)]\n",
    "    gen_target_only_batch_test = batch_generator_files(filenames, params['batch_size'], shuffle=False)\n",
    "    gen_target_batch_test = batch_generator_files(filenames, params['batch_size'] // 2, shuffle=False)\n",
    "\n",
    "    domain_labels = np.vstack([np.tile([1., 0.], [params['batch_size'] // 2, 1]),\n",
    "                               np.tile([0., 1.], [params['batch_size'] // 2, 1])])\n",
    "\n",
    "    total_dice_dann = []\n",
    "    total_dice_source = []\n",
    "    total_dice_target = []\n",
    "    \n",
    "    total_original_images_dann = []\n",
    "    total_original_masks_dann = []\n",
    "    total_pred_masks_dann = []\n",
    "    \n",
    "    total_original_images_source = []\n",
    "    total_original_masks_source = []\n",
    "    total_pred_masks_source = []\n",
    "    \n",
    "    total_original_images_target = []\n",
    "    total_original_masks_target = []\n",
    "    total_pred_masks_target = []\n",
    "    \n",
    "    mydict = {'loss': np.zeros(params['num_steps']),\n",
    "           'd_acc': np.zeros(params['num_steps']),\n",
    "           'p_acc': np.zeros(params['num_steps']),\n",
    "           'l': np.zeros(params['num_steps']),\n",
    "           'dloss': np.zeros(params['num_steps']),\n",
    "           'ploss': np.zeros(params['num_steps']),\n",
    "             'd_acc_test': np.zeros(int(params['num_steps']/100)),\n",
    "              'd_acc_train': np.zeros(int(params['num_steps']/100)),\n",
    "              'tloss_train': np.zeros(int(params['num_steps']/100)),\n",
    "              'dice_ct_train': np.zeros(int(params['num_steps']/100)),\n",
    "             'dice_ct_test': np.zeros(int(params['num_steps']/100)),\n",
    "             'dice_cbct_train': np.zeros(int(params['num_steps']/100)),\n",
    "             'dice_cbct_test': np.zeros(int(params['num_steps']/100)),\n",
    "             'loss_smooth': np.zeros(int(params['num_steps']/100)),\n",
    "             'pred_loss_train': np.zeros(int(params['num_steps']/100)),\n",
    "             'pred_loss_test': np.zeros(int(params['num_steps']/100)),\n",
    "             'domain_loss_train': np.zeros(int(params['num_steps']/100)),\n",
    "             'domain_loss_test': np.zeros(int(params['num_steps']/100))}\n",
    "\n",
    "    # Training loop. i is the index for every step. k is the index for the step for which we print results\n",
    "    for i in range(params['num_steps']):\n",
    "\n",
    "        # Adaptation param and learning rate schedule as described in the paper\n",
    "        p = float(i) / params['num_steps']\n",
    "        if 'lambda' in params.keys():\n",
    "            l = params['lambda']\n",
    "        elif 'p1' in params.keys() and 'p2' in params.keys() and 'l_max' in params.keys():\n",
    "            l = params['l_max']*np.clip((p-params['p1'])/(params['p2']-params['p1']), 0., 1.)\n",
    "        else:\n",
    "            l = 2. / (1. + np.exp(-params['gamma'] * p)) - 1\n",
    "        lr = params['mu0'] / (1. + params['alpha'] * p)**params['beta']\n",
    "\n",
    "        if training_mode == 'source':\n",
    "            X, y = next(gen_source_only_batch_train)\n",
    "            _, batch_loss = sess.run([regular_train_op, pred_loss],\n",
    "                                 feed_dict={model_X: X, model_y: y, model_train: False,\n",
    "                                            model_l: l, learning_rate: lr})\n",
    "\n",
    "        elif training_mode == 'target':\n",
    "            X, y = next(gen_target_only_batch_train)\n",
    "            _, batch_loss = sess.run([regular_train_op, pred_loss],\n",
    "                                 feed_dict={model_X: X, model_y: y, model_train: False,\n",
    "                                            model_l: l, learning_rate: lr})\n",
    "\n",
    "        # Training step\n",
    "        elif training_mode == 'dann':\n",
    "            X0, y0 = next(gen_source_batch_train)\n",
    "            X1, y1 = next(gen_target_batch_train)\n",
    "            X = np.vstack([X0, X1])\n",
    "            y = np.vstack([y0, y1])\n",
    "\n",
    "            _, batch_loss, dloss, ploss, d_acc, p_acc = sess.run(\n",
    "                [dann_train_op, total_loss, domain_loss, pred_loss, domain_acc, label_acc],\n",
    "                feed_dict={model_X: X, model_y: y, model_domain: domain_labels,\n",
    "                           model_train: True, model_l: l, learning_rate: lr})\n",
    "\n",
    "        if verbose and i % 100 == 0:\n",
    "            mydict['l'][i//100] = l\n",
    "            n_batches = 30//params['batch_size']\n",
    "            pred_loss_train = 0\n",
    "            domain_loss_train = 0\n",
    "            pred_loss_test = 0\n",
    "            domain_loss_test = 0\n",
    "            d_acc_train = 0\n",
    "            loss_test = 0\n",
    "            d_acc_test = 0\n",
    "            loss_smooth = 0\n",
    "\n",
    "            # loss_train and d_acc_train\n",
    "            if training_mode=='dann':\n",
    "                for _ in range(2*n_batches):\n",
    "                    X0, y0 = next(gen_source_batch_train)\n",
    "                    X1, y1 = next(gen_target_batch_train)\n",
    "                    X = np.vstack([X0, X1])\n",
    "                    y = np.vstack([y0, y1])\n",
    "                    pred_loss_batch, domain_loss_batch, d_acc_batch = sess.run([pred_loss, domain_loss, domain_acc],\n",
    "                            feed_dict={model_X: X, model_y: y, model_domain: domain_labels,\n",
    "                           model_train: True})\n",
    "                    pred_loss_train += pred_loss_batch\n",
    "                    domain_loss_train += domain_loss_batch\n",
    "                    d_acc_train += d_acc_batch\n",
    "                mydict['pred_loss_train'][i//100] = pred_loss_train/(2*n_batches)\n",
    "                mydict['domain_loss_train'][i//100] = domain_loss_train/(2*n_batches)\n",
    "                mydict['d_acc_train'][i//100] = d_acc_train/(2*n_batches)\n",
    "\n",
    "                # loss_test and d_acc_test\n",
    "                for _ in range(2*n_batches):\n",
    "                    X0, y0 = next(gen_source_batch_test)\n",
    "                    X1, y1 = next(gen_target_batch_test)\n",
    "                    X = np.vstack([X0, X1])\n",
    "                    y = np.vstack([y0, y1])\n",
    "                    pred_loss_batch, domain_loss_batch, d_acc_batch = sess.run([pred_loss, domain_loss, domain_acc],\n",
    "                            feed_dict={model_X: X, model_y: y, model_domain: domain_labels,\n",
    "                           model_train: True})\n",
    "                    pred_loss_test += pred_loss_batch\n",
    "                    domain_loss_test += domain_loss_batch\n",
    "                    d_acc_test += d_acc_batch\n",
    "                mydict['pred_loss_test'][i//100] = pred_loss_test/(2*n_batches)\n",
    "                mydict['domain_loss_test'][i//100] = domain_loss_test/(2*n_batches)\n",
    "                mydict['d_acc_test'][i//100] = d_acc_test/(2*n_batches)\n",
    "\n",
    "            # dice_ct_train and loss_smooth\n",
    "            dice_ct_train = 0\n",
    "            for _ in range(n_batches):\n",
    "                X_batch, y_batch = next(gen_source_only_batch_train)\n",
    "                pred_batch = sess.run(model_pred, feed_dict={model_X: X_batch, model_train: False})\n",
    "                if training_mode =='source':\n",
    "                    loss_smooth += sess.run(pred_loss,feed_dict={model_X: X_batch, model_y: y_batch, model_train: False})\n",
    "                pred_batch_thr = (pred_batch>0.5)\n",
    "                for ind in range(params['batch_size']):\n",
    "                        dice_ct_train += f1_score(y_batch[ind,:,:].flatten(), pred_batch_thr[ind,:,:].flatten())\n",
    "            dice_ct_train = dice_ct_train/30\n",
    "            mydict['dice_ct_train'][i//100] = dice_ct_train\n",
    "\n",
    "            # dice_ct_test\n",
    "            dice_ct_test = 0\n",
    "            for _ in range(n_batches):\n",
    "                X_batch, y_batch = next(gen_source_only_batch_test)\n",
    "                #print('X_batch.shape', X_batch.shape)\n",
    "                pred_batch = sess.run(model_pred, feed_dict={model_X: X_batch, model_train: False})\n",
    "                pred_batch_thr = (pred_batch>0.5)\n",
    "                #print('pred_batch_thr.shape', pred_batch_thr.shape)\n",
    "                for ind in range(params['batch_size']):\n",
    "                    dice_ct_test += f1_score(y_batch[ind,:,:].flatten(), pred_batch_thr[ind,:,:].flatten())\n",
    "            dice_ct_test = dice_ct_test/30\n",
    "            mydict['dice_ct_test'][i//100] = dice_ct_test\n",
    "\n",
    "            # dice_cbct_train and loss_smooth\n",
    "            dice_cbct_train = 0\n",
    "            for b in range(n_batches):\n",
    "                X_batch, y_batch = next(gen_target_only_batch_train)\n",
    "                pred_batch = sess.run(model_pred, feed_dict={model_X: X_batch, model_train: False})\n",
    "                if training_mode =='target':\n",
    "                    loss_smooth += sess.run(pred_loss,feed_dict={model_X: X_batch, model_y: y_batch, model_train: False})\n",
    "                pred_batch_thr = (pred_batch>0.5)\n",
    "                for ind in range(params['batch_size']):\n",
    "                    dice_cbct_train += f1_score(y_batch[ind,:,:].flatten(), pred_batch_thr[ind,:,:].flatten())\n",
    "                    \n",
    "            dice_cbct_train = dice_cbct_train/30\n",
    "            mydict['dice_cbct_train'][i//100] = dice_cbct_train\n",
    "\n",
    "            # dice_cbct_test\n",
    "            dice_cbct_test = 0\n",
    "            for _ in range(n_batches):\n",
    "                X_batch, y_batch = next(gen_target_only_batch_test)\n",
    "                pred_batch = sess.run(model_pred, feed_dict={model_X: X_batch, model_train: False})\n",
    "                pred_batch_thr = (pred_batch>0.5)\n",
    "                for ind in range(params['batch_size']):\n",
    "                    dice_cbct_test += f1_score(y_batch[ind,:,:].flatten(), pred_batch_thr[ind,:,:].flatten())\n",
    "                    if i==(params['num_steps']-100):\n",
    "                        temp_2 = f1_score(y_batch[ind,:,:].flatten(), pred_batch_thr[ind,:,:].flatten())\n",
    "                        if training_mode=='dann':\n",
    "                            total_dice_dann.append(temp_2)\n",
    "                            total_original_images_dann.append(X_batch)\n",
    "                            total_original_masks_dann.append(y_batch)\n",
    "                            total_pred_masks_dann.append(pred_batch)\n",
    "                        elif training_mode=='source':\n",
    "                            total_dice_source.append(temp_2)\n",
    "                            total_original_images_source.append(X_batch)\n",
    "                            total_original_masks_source.append(y_batch)\n",
    "                            total_pred_masks_source.append(pred_batch)\n",
    "                        elif training_mode=='target':   \n",
    "                            total_dice_target.append(temp_2)\n",
    "                            total_original_images_target.append(X_batch)\n",
    "                            total_original_masks_target.append(y_batch)\n",
    "                            total_pred_masks_target.append(pred_batch)\n",
    "                                                    \n",
    "            dice_cbct_test = dice_cbct_test/30\n",
    "            mydict['dice_cbct_test'][i//100] = dice_cbct_test\n",
    "\n",
    "            loss_smooth = loss_smooth/n_batches\n",
    "            mydict['loss_smooth'][i//100] = loss_smooth\n",
    "\n",
    "            if training_mode=='source' or training_mode=='target':\n",
    "                print('Step {}/{} - loss: {} - dice_ct_train: {} - dice_ct_test: {} - dice_cbct_train: {} - dice_cbct_test: {} - loss_smooth: {}'.format(i, params['num_steps'], batch_loss, dice_ct_train, dice_ct_test, dice_cbct_train, dice_cbct_test, loss_smooth))\n",
    "            elif training_mode=='dann':\n",
    "                print('Step {}/{} - pred_loss_train: {:.2e} - pred_loss_test: {:.2e} - domain_loss_train: {:.2e} - domain_loss_test: {:.2e} - loss_train: {:.2e} - loss_test: {:.2e} - d_acc_train: {:.2e} - d_acc_test: {:.2e}'.format(\n",
    "                    i, params['num_steps'], \n",
    "                    mydict['pred_loss_train'][i//100], mydict['pred_loss_test'][i//100], \n",
    "                    mydict['domain_loss_train'][i//100], mydict['domain_loss_test'][i//100],\n",
    "                    mydict['pred_loss_train'][i//100]+mydict['domain_loss_train'][i//100], mydict['pred_loss_test'][i//100]+mydict['domain_loss_test'][i//100],\n",
    "                    mydict['d_acc_train'][i//100], mydict['d_acc_test'][i//100]))\n",
    "                \n",
    "            \n",
    "            if i==(params['num_steps']-100) and save_session:\n",
    "                print('saving')\n",
    "                filepath = dest_dir + '/' + params2name(params) + '/model.ckpt'\n",
    "                saver.save(sess, filepath)\n",
    "\n",
    "        mydict['loss'][i] = batch_loss\n",
    "    \n",
    "        \n",
    "    \n",
    "    if not os.path.exists(dest_dir + '/' + params2name(params)):\n",
    "        os.makedirs(dest_dir + '/' + params2name(params))\n",
    "    filepath = dest_dir + '/' + params2name(params) + '/mydict.p'\n",
    "    pkl.dump( mydict, open( filepath, 'wb' ) )\n",
    "    \n",
    "    \n"
   ]
  },
  {
   "cell_type": "code",
   "execution_count": 6,
   "metadata": {},
   "outputs": [
    {
     "name": "stdout",
     "output_type": "stream",
     "text": [
      "0.4674110364075427\n"
     ]
    }
   ],
   "source": [
    "print(mydict['dice_cbct_test'][-1])"
   ]
  },
  {
   "cell_type": "code",
   "execution_count": 7,
   "metadata": {},
   "outputs": [],
   "source": [
    "filepath = '/home/cuxartgarcia/unet_uda_29-4-20/results/' + params2name(params) + '/mydict.p'\n",
    "mydict = pkl.load( open( filepath, \"rb\" ) )"
   ]
  },
  {
   "cell_type": "code",
   "execution_count": 8,
   "metadata": {
    "scrolled": true
   },
   "outputs": [
    {
     "data": {
      "image/png": "[encoded data removed]",
      "text/plain": [
       "<Figure size 1440x720 with 6 Axes>"
      ]
     },
     "metadata": {},
     "output_type": "display_data"
    }
   ],
   "source": [
    "plt.figure(figsize=(20,10), frameon=False)\n",
    "\n",
    "#plt.suptitle(params2name(params) + '\\n \\n' + 'dice_cbct_test=%.3f' % mydict['dice_cbct_test'][-1])\n",
    "\n",
    "\n",
    "\n",
    "if training_mode=='source' or training_mode=='target':\n",
    "    plt.subplot(2,3,1)\n",
    "    plt.plot(mydict['loss_smooth'], color='#1f77b4', label='segmentation loss')\n",
    "    plt.ylabel('Loss')\n",
    "    plt.xlabel('Steps')\n",
    "    plt.grid()\n",
    "    plt.legend()\n",
    "    \n",
    "    plt.subplot(2,3,2)\n",
    "    plt.plot(mydict['dice_ct_train'], label='train')\n",
    "    plt.plot(mydict['dice_ct_test'], label='test')\n",
    "    plt.ylabel('DSC source (CT)')\n",
    "    plt.xlabel('Steps')\n",
    "    plt.ylim([0,1])\n",
    "    plt.legend()\n",
    "    plt.grid()\n",
    "    plt.subplot(2,3,3)\n",
    "    plt.plot(mydict['dice_cbct_train'], color='#1f77b4', label='train')\n",
    "    plt.plot(mydict['dice_cbct_test'], color='#ff7f0e', label='test')\n",
    "    #plt.plot(mydict_disconnected['dice_cbct_train'], color='#1f77b4', linestyle='--', label='train, $\\lambda=0$')\n",
    "    #plt.plot(mydict_disconnected['dice_cbct_test'], color='#ff7f0e', linestyle='--', label='test, $\\lambda=0$')\n",
    "    plt.legend()\n",
    "    plt.ylabel('DSC target (CBCT)')\n",
    "    plt.xlabel('Steps')\n",
    "    plt.ylim([0,1])\n",
    "    plt.grid()\n",
    "\n",
    "\n",
    "else:\n",
    "    plt.subplot(2,3,1)\n",
    "    plt.plot(mydict['pred_loss_train'], color='#1f77b4', label='segmentation loss train')\n",
    "    plt.plot(mydict['pred_loss_test'], color='#ff7f0e', label='segmentation loss test')\n",
    "    plt.plot(mydict['domain_loss_train'], color='#1f77b4', linestyle='--', label='domain loss train')\n",
    "    plt.plot(mydict['domain_loss_test'], color='#ff7f0e', linestyle='--', label='domain loss test')\n",
    "    plt.ylabel('Loss')\n",
    "    plt.xlabel('Steps')\n",
    "    plt.grid()\n",
    "    plt.legend()\n",
    "\n",
    "\n",
    "    plt.subplot(2,3,2)\n",
    "    y = [mydict['pred_loss_train'][i]+mydict['domain_loss_train'][i] for i in range(params['num_steps']//100)]\n",
    "    plt.plot(y)\n",
    "    y = [mydict['pred_loss_test'][i]+mydict['domain_loss_test'][i] for i in range(params['num_steps']//100)]\n",
    "    plt.plot(y)\n",
    "    plt.ylabel('Total Loss')\n",
    "    plt.xlabel('Steps')\n",
    "    plt.grid()\n",
    "\n",
    "    plt.subplot(2,3,3)\n",
    "    plt.plot(mydict['l'][:params['num_steps']//100])\n",
    "    plt.ylabel('Lambda')\n",
    "    plt.grid()\n",
    "    plt.xlabel('Steps')\n",
    "\n",
    "    plt.subplot(2,3,4)\n",
    "    plt.plot(mydict['d_acc_train'], color='#1f77b4', label='train UDA')\n",
    "    plt.plot(mydict['d_acc_test'], color='#ff7f0e', label='test UDA')\n",
    "    #plt.plot(mydict_disconnected['d_acc_train'], color='#1f77b4', linestyle='--', label='train, $\\lambda=0$')\n",
    "    #plt.plot(mydict_disconnected['d_acc_test'], color='#ff7f0e', linestyle='--', label='domain, $\\lambda=0$')\n",
    "\n",
    "\n",
    "    plt.ylabel('Discriminator accuracy')\n",
    "    plt.ylim([0,1])\n",
    "    plt.xlabel('Steps')\n",
    "    plt.grid()\n",
    "    plt.legend()\n",
    "    plt.subplot(2,3,5)\n",
    "    plt.plot(mydict['dice_ct_train'])\n",
    "    plt.plot(mydict['dice_ct_test'])\n",
    "    plt.ylabel('DSC source (CT)')\n",
    "    plt.ylim([0,1])\n",
    "    plt.xlabel('Steps')\n",
    "    plt.grid()\n",
    "    plt.subplot(2,3,6)\n",
    "    plt.plot(mydict['dice_cbct_train'], color='#1f77b4', label='train UDA')\n",
    "    plt.plot(mydict['dice_cbct_test'], color='#ff7f0e', label='test UDA')\n",
    "    #plt.plot(mydict_disconnected['dice_cbct_train'], color='#1f77b4', linestyle='--', label='train, $\\lambda=0$')\n",
    "    #plt.plot(mydict_disconnected['dice_cbct_test'], color='#ff7f0e', linestyle='--', label='test, $\\lambda=0$')\n",
    "    plt.legend()\n",
    "    plt.ylabel('DSC target (CBCT)')\n",
    "    plt.ylim([0,1])\n",
    "    plt.xlabel('Steps')\n",
    "    plt.grid()\n",
    "\n",
    "filepath = '/home/cuxartgarcia/unet_uda_29-4-20/results/' + params2name(params) + '/learning_curves.eps'\n",
    "plt.savefig(filepath)"
   ]
  },
  {
   "cell_type": "markdown",
   "metadata": {},
   "source": [
    "## DICE CBCT standard deviation"
   ]
  },
  {
   "cell_type": "markdown",
   "metadata": {},
   "source": [
    "### DANN"
   ]
  },
  {
   "cell_type": "code",
   "execution_count": 7,
   "metadata": {},
   "outputs": [
    {
     "name": "stdout",
     "output_type": "stream",
     "text": [
      "0.6234694285602739\n",
      "0.14920013537284296\n"
     ]
    }
   ],
   "source": [
    "print(mydict['dice_cbct_test'][-1])\n",
    "print(statistics.stdev(total_dice_dann))"
   ]
  },
  {
   "cell_type": "markdown",
   "metadata": {},
   "source": [
    "### SOURCE"
   ]
  },
  {
   "cell_type": "code",
   "execution_count": 9,
   "metadata": {},
   "outputs": [
    {
     "name": "stdout",
     "output_type": "stream",
     "text": [
      "0.38387505589289994\n",
      "0.2699068305891889\n"
     ]
    }
   ],
   "source": [
    "print(mydict['dice_cbct_test'][-1])\n",
    "print(statistics.stdev(total_dice_source))"
   ]
  },
  {
   "cell_type": "markdown",
   "metadata": {},
   "source": [
    "### TARGET"
   ]
  },
  {
   "cell_type": "code",
   "execution_count": 7,
   "metadata": {},
   "outputs": [
    {
     "name": "stdout",
     "output_type": "stream",
     "text": [
      "0.7171962459427715\n",
      "0.17796294226101503\n"
     ]
    }
   ],
   "source": [
    "print(mydict['dice_cbct_test'][-1])\n",
    "print(statistics.stdev(total_dice_target))"
   ]
  },
  {
   "cell_type": "markdown",
   "metadata": {},
   "source": [
    "## BOXPLOT "
   ]
  },
  {
   "cell_type": "code",
   "execution_count": 9,
   "metadata": {},
   "outputs": [],
   "source": [
    "import matplotlib as mpl \n",
    "mpl.use('agg')  ## agg backend is used to create plot as a .png file\n",
    "\n",
    "import matplotlib.pyplot as plt \n",
    "\n",
    "dice_test_dann = [0.7518632178868917, 0.4478554009467795, 0.8369938741969221, 0.7940204110967372, 0.748160969277369, 0.6371571072319202, 0.6540832049306626, 0.4492020241339042, 0.5339908418457203, 0.34184882802212274, 0.8313181367690782, 0.7165651290977662, 0.7824333408021511, 0.8271036012971497, 0.7589251439539347, 0.7488648271044359, 0.7918570835064396, 0.7691029900332226, 0.4565640825866771, 0.7705163916863083, 0.7146087743102668, 0.6922183507549362, 0.4857842214272265, 0.8448604060913705, 0.6000000000000001, 0.6228513650151669, 0.8465991316931983, 0.7154178674351584]\n",
    "dice_test_source = [0.4287464271131074, 0.5024533856722276, 0.2704678362573099, 0.3175065540343723, 0.18020417221482468, 0.3817797605071613, 0.29574531389467423, 0.45329849771391245, 0.0, 0.060209424083769635, 0.8089775561097257, 0.49978041282389113, 0.8151823368891095, 0.8450143709927039, 0.4482481947044664, 0.7816, 0.8249660786974219, 0.47719470328592445, 0.3490280777537797, 0.6582518144525087, 0.6550137994480222, 0.13557358053302435, 0.5912627169359664, 0.10837988826815644, 0.35909980430528377, 0.34177215189873417, 0.5935733002344504, 0.018469656992084433]\n",
    "dice_test_target =[0.8969603297269448, 0.8291267769074557, 0.9245435016111708, 0.90529638723255, 0.8690559850081986, 0.9011957205789806, 0.7997107736804049, 0.8337662337662337, 0.7581989994441357, 0.0, 0.853318250377074, 0.7982289690069575, 0.7352721849366144, 0.8780867198133385, 0.8519440124416796, 0.6709970769730432, 0.5979438732981384, 0.900197806149973, 0.6008037508372404, 0.8248407643312102, 0.749597423510467, 0.8494208494208495, 0.6276958002270148, 0.7964570416297608, 0.7294117647058823, 0.6502963590177815, 0.9092743970128166, 0.7766575007638252]\n",
    "\n",
    "## combine these different collections into a list    \n",
    "test = [dice_test_source, dice_test_target, dice_test_dann]"
   ]
  },
  {
   "cell_type": "code",
   "execution_count": 11,
   "metadata": {},
   "outputs": [
    {
     "data": {
      "image/png": "[encoded data removed]",
      "text/plain": [
       "<Figure size 648x432 with 1 Axes>"
      ]
     },
     "metadata": {},
     "output_type": "display_data"
    }
   ],
   "source": [
    "# Create a figure instance\n",
    "fig = plt.figure(1, figsize=(9, 6))\n",
    "# Create an axes instance\n",
    "ax = fig.add_subplot(111)\n",
    "# Create the boxplot\n",
    "bp = ax.boxplot(test)\n",
    "ax.set_xticklabels(['Source', 'Target', 'UDA'])\n",
    "ax.set_ylabel('DSC')\n",
    "plt.title('Test CBCT DICE values')\n",
    "\n",
    "# Save the figure\n",
    "fig.savefig('dice_test.eps', bbox_inches='tight')\n",
    "## Custom x-axis labels"
   ]
  },
  {
   "cell_type": "markdown",
   "metadata": {},
   "source": [
    "## Table of results"
   ]
  },
  {
   "cell_type": "markdown",
   "metadata": {},
   "source": [
    "## Contours and distances"
   ]
  },
  {
   "cell_type": "code",
   "execution_count": 14,
   "metadata": {},
   "outputs": [],
   "source": [
    "import imageio\n",
    "import cv2\n",
    "from scipy.misc import toimage, imsave\n",
    "from PIL import Image\n",
    "from scipy.spatial.distance import cdist\n",
    "from scipy.misc import imfilter\n",
    "\n",
    "slice_num = 5\n",
    "organ_num = 0\n",
    "spacing = [4.8, 4.8, 6]\n",
    "metrics = {}\n",
    "\n",
    "\n",
    "\n",
    "def mask2contours(mask):\n",
    "    sh = mask.shape\n",
    "    contours = np.zeros((sh[0],sh[1],sh[2]))\n",
    "    n_slices = sh[2]\n",
    "    \n",
    "    for s in range(n_slices):\n",
    "        if s>0 and np.sum(mask[:,:,s-1].flatten())==0:\n",
    "            contours[:,:,s] = mask[:,:,s]\n",
    "        \n",
    "        elif s<(n_slices-1) and np.sum(mask[:,:,s+1].flatten())==0:\n",
    "            contours[:,:,s] = mask[:,:,s]\n",
    "        else:\n",
    "            diff = np.abs(mask[:,:,s]*1 - mask[:,:,s-1]*1)>0\n",
    "            imf = imfilter(mask[:,:,s].astype('int'), 'find_edges')\n",
    "            if np.sum(diff.flatten()>0):\n",
    "                contours[:,:,s] = (diff+imf)>0\n",
    "            else:\n",
    "                contours[:, :, s] = imf\n",
    "    return contours"
   ]
  },
  {
   "cell_type": "markdown",
   "metadata": {},
   "source": [
    "## SOURCE"
   ]
  },
  {
   "cell_type": "code",
   "execution_count": 21,
   "metadata": {},
   "outputs": [
    {
     "name": "stdout",
     "output_type": "stream",
     "text": [
      "0\n",
      "1\n",
      "2\n",
      "3\n",
      "4\n",
      "14\n",
      "0.42905280205129404\n",
      "0.4581005586592179\n"
     ]
    },
    {
     "name": "stderr",
     "output_type": "stream",
     "text": [
      "/export/share/anaconda3/lib/python3.6/site-packages/ipykernel_launcher.py:17: DeprecationWarning: `imsave` is deprecated!\n",
      "`imsave` is deprecated in SciPy 1.0.0, and will be removed in 1.2.0.\n",
      "Use ``imageio.imwrite`` instead.\n",
      "/export/share/anaconda3/lib/python3.6/site-packages/ipykernel_launcher.py:18: DeprecationWarning: `imsave` is deprecated!\n",
      "`imsave` is deprecated in SciPy 1.0.0, and will be removed in 1.2.0.\n",
      "Use ``imageio.imwrite`` instead.\n",
      "/export/share/anaconda3/lib/python3.6/site-packages/ipykernel_launcher.py:19: DeprecationWarning: `imsave` is deprecated!\n",
      "`imsave` is deprecated in SciPy 1.0.0, and will be removed in 1.2.0.\n",
      "Use ``imageio.imwrite`` instead.\n",
      "/export/share/anaconda3/lib/python3.6/site-packages/ipykernel_launcher.py:28: DeprecationWarning: `imfilter` is deprecated!\n",
      "`imfilter` is deprecated in SciPy 1.0.0, and will be removed in 1.2.0.\n",
      "Use Pillow filtering functionality directly.\n"
     ]
    },
    {
     "name": "stdout",
     "output_type": "stream",
     "text": [
      "[164.34305583]\n",
      "[60.10790297]\n",
      "[30.95089131]\n"
     ]
    },
    {
     "data": {
      "image/png": "[encoded data removed]",
      "text/plain": [
       "<Figure size 1440x720 with 1 Axes>"
      ]
     },
     "metadata": {},
     "output_type": "display_data"
    },
    {
     "data": {
      "image/png": "[encoded data removed]",
      "text/plain": [
       "<Figure size 1440x720 with 1 Axes>"
      ]
     },
     "metadata": {},
     "output_type": "display_data"
    }
   ],
   "source": [
    "index = (np.abs(total_dice_source-dice_cbct_test)).argmin()\n",
    "closests_index = \n",
    "# Find 5 closest to mean\n",
    "for indexx in range(5):\n",
    "    print (indexx)\n",
    "\n",
    "\n",
    "\n",
    "\n",
    "\n",
    "\n",
    "print(index)\n",
    "print(dice_cbct_test)\n",
    "print(total_dice_source[index])\n",
    "\n",
    "# Save np images as .png\n",
    "imsave(\"./closest_pred_mask_source.png\".format(), total_pred_masks_source[index][organ_num,:,:,slice_num])\n",
    "imsave(\"./closest_pred_image_source.png\".format(), total_original_images_source[index][organ_num,:,:,slice_num,0])\n",
    "imsave(\"./closest_original_mask_source.png\".format(), total_original_masks_source[index][organ_num,:,:,slice_num])\n",
    "\n",
    "image_original = cv2.imread(\"closest_pred_image_source.png\")\n",
    "\n",
    "\n",
    "# Prepare contours ORIGINAL MASK\n",
    "mask_original = cv2.imread(\"closest_original_mask_source.png\")\n",
    "gray_image_original_mask = cv2.cvtColor(mask_original, cv2.COLOR_BGR2GRAY)\n",
    "\n",
    "# Apply cv2.threshold() to get a binary image\n",
    "ret, thresh = cv2.threshold(gray_image_original_mask, 50, 255, cv2.THRESH_BINARY)\n",
    "\n",
    "# Find contours:\n",
    "im, contours_original, hierarchy = cv2.findContours(thresh, cv2.RETR_EXTERNAL, cv2.CHAIN_APPROX_NONE)\n",
    "\n",
    "\n",
    "# Prepare contours PREDICTED MASK\n",
    "mask_pred = cv2.imread(\"closest_pred_mask_source.png\")\n",
    "gray_image_pred_mask = cv2.cvtColor(mask_pred, cv2.COLOR_BGR2GRAY)\n",
    "\n",
    "# Apply cv2.threshold() to get a binary image\n",
    "ret, thresh = cv2.threshold(gray_image_pred_mask, 50, 255, cv2.THRESH_BINARY)\n",
    "\n",
    "# Find contours:\n",
    "im, contours_pred, hierarchy = cv2.findContours(thresh, cv2.RETR_EXTERNAL, cv2.CHAIN_APPROX_NONE)\n",
    "\n",
    "# Show image:\n",
    "plt.figure(figsize=(20,10), frameon=False)\n",
    "plt.subplot(2,2,2)\n",
    "plt.title('ORIGINAL')\n",
    "plt.imshow(image_original)\n",
    "\n",
    "plt.savefig('final_ORIGINAL_source_'+str(slice_num)+'_'+str(total_dice_source[index])+str(index)+'.eps', bbox_inches='tight')\n",
    "\n",
    "\n",
    "# Draw contours:\n",
    "cv2.drawContours(image_original, contours_pred, 0, (255, 0, 0), 1)\n",
    "cv2.drawContours(image_original, contours_original, 0, (0, 255, 0), 1)\n",
    "\n",
    "# Show image:\n",
    "plt.figure(figsize=(20,10), frameon=False)\n",
    "plt.subplot(2,2,3)\n",
    "plt.title('SOURCE CBCT SLICE = '+str(slice_num))\n",
    "plt.imshow(image_original)\n",
    "\n",
    "#Compute distance\n",
    "metrics['HDs'] = np.zeros(1)\n",
    "metrics['HD95s'] = np.zeros(1)\n",
    "metrics['HDmeans'] = np.zeros(1)\n",
    "\n",
    "pred_contours = mask2contours(total_pred_masks_source[index][organ_num,:,:,:])\n",
    "mask_contours = mask2contours(total_original_masks_source[index][organ_num,:,:,:])\n",
    "coord1 = np.argwhere(mask_contours)*np.asarray(spacing)\n",
    "coord2 = np.argwhere(pred_contours)*np.asarray(spacing)\n",
    "Y = cdist(coord1,coord2)\n",
    "if Y.shape[1]>0:\n",
    "    DAB = np.min(Y,axis=1)\n",
    "    DBA = np.min(Y,axis=0)\n",
    "    metrics['HDs'][organ_num] = np.max([np.max(DAB), np.max(DBA)])\n",
    "    metrics['HD95s'][organ_num] = np.mean([np.percentile(DAB, 95), np.percentile(DBA, 95)])\n",
    "    metrics['HDmeans'][organ_num] = np.mean([np.mean(DAB), np.mean(DBA)])\n",
    "else:\n",
    "    metrics['HDs'][organ_num] = None\n",
    "    metrics['HD95s'][organ_num] = None\n",
    "    metrics['HDmeans'][organ_num] = None\n",
    "\n",
    "print( metrics['HDs'])\n",
    "print( metrics['HD95s'])\n",
    "print( metrics['HDmeans'])\n",
    "\n",
    "\n",
    "# Save the figure\n",
    "plt.savefig('final_CBCT_source_'+str(slice_num)+'_'+str(total_dice_source[index])+'_'+str(metrics['HDmeans'])+str(index)+'.eps', bbox_inches='tight')\n"
   ]
  },
  {
   "cell_type": "markdown",
   "metadata": {},
   "source": [
    "## TARGET"
   ]
  },
  {
   "cell_type": "code",
   "execution_count": 25,
   "metadata": {},
   "outputs": [
    {
     "name": "stdout",
     "output_type": "stream",
     "text": [
      "[0.8927824267782427, 0.8444857496902107, 0.9254173397953688, 0.9003783102143758, 0.8707998106956933, 0.8791492104415082, 0.7883495145631068, 0.7912687585266029, 0.7673060884070059, 0.0, 0.8637659129773894, 0.7856462369006033, 0.7370998116760829, 0.870854467420991, 0.8606465997770345, 0.7048846675712348, 0.650401482396541, 0.8921568627450981, 0.5771720613287905, 0.8224299065420559, 0.7318563789152024, 0.8119249171880751, 0.6300114547537227, 0.7847421203438395, 0.7188742734781279, 0.609225413402959, 0.9023485784919654, 0.7830559757942511]\n",
      "12\n",
      "0.7370998116760829\n"
     ]
    },
    {
     "name": "stderr",
     "output_type": "stream",
     "text": [
      "/export/share/anaconda3/lib/python3.6/site-packages/ipykernel_launcher.py:8: DeprecationWarning: `imsave` is deprecated!\n",
      "`imsave` is deprecated in SciPy 1.0.0, and will be removed in 1.2.0.\n",
      "Use ``imageio.imwrite`` instead.\n",
      "  \n",
      "/export/share/anaconda3/lib/python3.6/site-packages/ipykernel_launcher.py:9: DeprecationWarning: `imsave` is deprecated!\n",
      "`imsave` is deprecated in SciPy 1.0.0, and will be removed in 1.2.0.\n",
      "Use ``imageio.imwrite`` instead.\n",
      "  if __name__ == '__main__':\n",
      "/export/share/anaconda3/lib/python3.6/site-packages/ipykernel_launcher.py:10: DeprecationWarning: `imsave` is deprecated!\n",
      "`imsave` is deprecated in SciPy 1.0.0, and will be removed in 1.2.0.\n",
      "Use ``imageio.imwrite`` instead.\n",
      "  # Remove the CWD from sys.path while we load stuff.\n",
      "/export/share/anaconda3/lib/python3.6/site-packages/ipykernel_launcher.py:28: DeprecationWarning: `imfilter` is deprecated!\n",
      "`imfilter` is deprecated in SciPy 1.0.0, and will be removed in 1.2.0.\n",
      "Use Pillow filtering functionality directly.\n"
     ]
    },
    {
     "name": "stdout",
     "output_type": "stream",
     "text": [
      "[164.34305583]\n",
      "[59.97899632]\n",
      "[31.17454506]\n"
     ]
    },
    {
     "data": {
      "image/png": "[encoded data removed]",
      "text/plain": [
       "<Figure size 1440x720 with 1 Axes>"
      ]
     },
     "metadata": {},
     "output_type": "display_data"
    },
    {
     "data": {
      "image/png": "[encoded data removed]",
      "text/plain": [
       "<Figure size 1440x720 with 1 Axes>"
      ]
     },
     "metadata": {},
     "output_type": "display_data"
    }
   ],
   "source": [
    "index = (np.abs(total_dice_target-dice_cbct_test)).argmin()\n",
    "index = 12\n",
    "print(total_dice_target)\n",
    "print(index)\n",
    "print(total_dice_target[index])\n",
    "\n",
    "# Save np images as .png\n",
    "imsave(\"./closest_pred_mask_target.png\".format(), total_pred_masks_target[index][organ_num,:,:,slice_num])\n",
    "imsave(\"./closest_pred_image_target.png\".format(), total_original_images_target[index][organ_num,:,:,slice_num,0])\n",
    "imsave(\"./closest_original_mask_target.png\".format(), total_original_masks_target[index][organ_num,:,:,slice_num])\n",
    "\n",
    "image_original = cv2.imread(\"closest_pred_image_target.png\")\n",
    "\n",
    "\n",
    "# Prepare contours ORIGINAL MASK\n",
    "mask_original = cv2.imread(\"closest_original_mask_target.png\")\n",
    "gray_image_original_mask = cv2.cvtColor(mask_original, cv2.COLOR_BGR2GRAY)\n",
    "\n",
    "# Apply cv2.threshold() to get a binary image\n",
    "ret, thresh = cv2.threshold(gray_image_original_mask, 50, 255, cv2.THRESH_BINARY)\n",
    "\n",
    "# Find contours:\n",
    "im, contours_original, hierarchy = cv2.findContours(thresh, cv2.RETR_EXTERNAL, cv2.CHAIN_APPROX_NONE)\n",
    "\n",
    "\n",
    "# Prepare contours PREDICTED MASK\n",
    "mask_pred = cv2.imread(\"closest_pred_mask_target.png\")\n",
    "gray_image_pred_mask = cv2.cvtColor(mask_pred, cv2.COLOR_BGR2GRAY)\n",
    "\n",
    "# Apply cv2.threshold() to get a binary image\n",
    "ret, thresh = cv2.threshold(gray_image_pred_mask, 50, 255, cv2.THRESH_BINARY)\n",
    "\n",
    "# Find contours:\n",
    "im, contours_pred, hierarchy = cv2.findContours(thresh, cv2.RETR_EXTERNAL, cv2.CHAIN_APPROX_NONE)\n",
    "\n",
    "# Show image:\n",
    "plt.figure(figsize=(20,10), frameon=False)\n",
    "plt.subplot(2,2,2)\n",
    "plt.title('ORIGINAL')\n",
    "plt.imshow(image_original)\n",
    "\n",
    "plt.savefig('final_ORIGINAL_target_'+str(slice_num)+'_'+str(total_dice_target[index])+str(index)+'.eps', bbox_inches='tight')\n",
    "\n",
    "\n",
    "# Draw contours:\n",
    "cv2.drawContours(image_original, contours_pred, 0, (255, 0, 0), 1)\n",
    "cv2.drawContours(image_original, contours_original, 0, (0, 255, 0), 1)\n",
    "\n",
    "# Show image:\n",
    "plt.figure(figsize=(20,10), frameon=False)\n",
    "plt.subplot(2,2,3)\n",
    "plt.title('TARGET CBCT SLICE = '+str(slice_num))\n",
    "plt.imshow(image_original)\n",
    "\n",
    "#Compute distance\n",
    "metrics['HDs'] = np.zeros(1)\n",
    "metrics['HD95s'] = np.zeros(1)\n",
    "metrics['HDmeans'] = np.zeros(1)\n",
    "\n",
    "pred_contours = mask2contours(total_pred_masks_target[index][organ_num,:,:,:])\n",
    "mask_contours = mask2contours(total_original_masks_target[index][organ_num,:,:,:])\n",
    "coord1 = np.argwhere(mask_contours)*np.asarray(spacing)\n",
    "coord2 = np.argwhere(pred_contours)*np.asarray(spacing)\n",
    "Y = cdist(coord1,coord2)\n",
    "if Y.shape[1]>0:\n",
    "    DAB = np.min(Y,axis=1)\n",
    "    DBA = np.min(Y,axis=0)\n",
    "    metrics['HDs'][organ_num] = np.max([np.max(DAB), np.max(DBA)])\n",
    "    metrics['HD95s'][organ_num] = np.mean([np.percentile(DAB, 95), np.percentile(DBA, 95)])\n",
    "    metrics['HDmeans'][organ_num] = np.mean([np.mean(DAB), np.mean(DBA)])\n",
    "else:\n",
    "    metrics['HDs'][organ_num] = None\n",
    "    metrics['HD95s'][organ_num] = None\n",
    "    metrics['HDmeans'][organ_num] = None\n",
    "\n",
    "print( metrics['HDs'])\n",
    "print( metrics['HD95s'])\n",
    "print( metrics['HDmeans'])\n",
    "\n",
    "\n",
    "# Save the figure\n",
    "plt.savefig('final_CBCT_target_'+str(slice_num)+'_'+str(total_dice_target[index])+'_'+str(metrics['HDmeans'])+str(index)+'.eps', bbox_inches='tight')\n",
    "\n"
   ]
  },
  {
   "cell_type": "markdown",
   "metadata": {},
   "source": [
    "## UDA"
   ]
  },
  {
   "cell_type": "code",
   "execution_count": null,
   "metadata": {},
   "outputs": [],
   "source": [
    "index = (np.abs(total_dice_dann-dice_cbct_test)).argmin()\n",
    "print(total_dice_dann[index])\n",
    "\n",
    "# Save np images as .png\n",
    "imsave(\"./closest_pred_mask_dann.png\".format(), total_pred_masks_dann[index][organ_num,:,:,slice_num])\n",
    "imsave(\"./closest_pred_image_dann.png\".format(), total_original_images_dann[index][organ_num,:,:,slice_num,0])\n",
    "imsave(\"./closest_original_mask_dann.png\".format(), total_original_masks_dann[index][organ_num,:,:,slice_num])\n",
    "\n",
    "image_original = cv2.imread(\"closest_pred_image_dann.png\")\n",
    "\n",
    "\n",
    "# Prepare contours ORIGINAL MASK\n",
    "mask_original = cv2.imread(\"closest_original_mask_dann.png\")\n",
    "gray_image_original_mask = cv2.cvtColor(mask_original, cv2.COLOR_BGR2GRAY)\n",
    "\n",
    "# Apply cv2.threshold() to get a binary image\n",
    "ret, thresh = cv2.threshold(gray_image_original_mask, 50, 255, cv2.THRESH_BINARY)\n",
    "\n",
    "# Find contours:\n",
    "im, contours_original, hierarchy = cv2.findContours(thresh, cv2.RETR_EXTERNAL, cv2.CHAIN_APPROX_NONE)\n",
    "\n",
    "\n",
    "# Prepare contours PREDICTED MASK\n",
    "mask_pred = cv2.imread(\"closest_pred_mask_dann.png\")\n",
    "gray_image_pred_mask = cv2.cvtColor(mask_pred, cv2.COLOR_BGR2GRAY)\n",
    "\n",
    "# Apply cv2.threshold() to get a binary image\n",
    "ret, thresh = cv2.threshold(gray_image_pred_mask, 50, 255, cv2.THRESH_BINARY)\n",
    "\n",
    "# Find contours:\n",
    "im, contours_pred, hierarchy = cv2.findContours(thresh, cv2.RETR_EXTERNAL, cv2.CHAIN_APPROX_NONE)\n",
    "\n",
    "# Show image:\n",
    "plt.figure(figsize=(20,10), frameon=False)\n",
    "plt.subplot(2,2,2)\n",
    "plt.title('ORIGINAL')\n",
    "plt.imshow(image_original)\n",
    "\n",
    "plt.savefig('final_ORIGINAL_dann_'+str(slice_num)+'_'+str(total_dice_dann[index])+str(index)+.eps', bbox_inches='tight')\n",
    "\n",
    "\n",
    "# Draw contours:\n",
    "cv2.drawContours(image_original, contours_pred, 0, (255, 0, 0), 1)\n",
    "cv2.drawContours(image_original, contours_original, 0, (0, 255, 0), 1)\n",
    "\n",
    "# Show image:\n",
    "plt.figure(figsize=(20,10), frameon=False)\n",
    "plt.subplot(2,2,3)\n",
    "plt.title('UDA CBCT SLICE = '+str(slice_num))\n",
    "plt.imshow(image_original)\n",
    "\n",
    "#Compute distance\n",
    "metrics['HDs'] = np.zeros(1)\n",
    "metrics['HD95s'] = np.zeros(1)\n",
    "metrics['HDmeans'] = np.zeros(1)\n",
    "\n",
    "pred_contours = mask2contours(total_pred_masks_dann[index][organ_num,:,:,:])\n",
    "mask_contours = mask2contours(total_original_masks_dann[index][organ_num,:,:,:])\n",
    "coord1 = np.argwhere(mask_contours)*np.asarray(spacing)\n",
    "coord2 = np.argwhere(pred_contours)*np.asarray(spacing)\n",
    "Y = cdist(coord1,coord2)\n",
    "if Y.shape[1]>0:\n",
    "    DAB = np.min(Y,axis=1)\n",
    "    DBA = np.min(Y,axis=0)\n",
    "    metrics['HDs'][organ_num] = np.max([np.max(DAB), np.max(DBA)])\n",
    "    metrics['HD95s'][organ_num] = np.mean([np.percentile(DAB, 95), np.percentile(DBA, 95)])\n",
    "    metrics['HDmeans'][organ_num] = np.mean([np.mean(DAB), np.mean(DBA)])\n",
    "else:\n",
    "    metrics['HDs'][organ_num] = None\n",
    "    metrics['HD95s'][organ_num] = None\n",
    "    metrics['HDmeans'][organ_num] = None\n",
    "\n",
    "print( metrics['HDs'])\n",
    "print( metrics['HD95s'])\n",
    "print( metrics['HDmeans'])\n",
    "\n",
    "\n",
    "# Save the figure\n",
    "plt.savefig('final_CBCT_dann_'+str(slice_num)+'_'+str(total_dice_dann[index])+'_'+str(metrics['HDmeans'])+str(index)+'.eps', bbox_inches='tight')\n",
    "\n",
    "\n"
   ]
  },
  {
   "cell_type": "markdown",
   "metadata": {},
   "source": [
    "## Hausdorff distance "
   ]
  },
  {
   "cell_type": "markdown",
   "metadata": {},
   "source": [
    "### DANN"
   ]
  },
  {
   "cell_type": "code",
   "execution_count": 11,
   "metadata": {},
   "outputs": [
    {
     "name": "stdout",
     "output_type": "stream",
     "text": [
      "5\n",
      "1.6426574668211955\n",
      "1.2632676450082754\n",
      "1.4324913169263414\n"
     ]
    }
   ],
   "source": [
    "from scipy.spatial.distance import directed_hausdorff\n",
    "\n",
    "index = (np.abs(total_dice_dann-dice_cbct_test)).argmin()\n",
    "print(index)\n",
    "slice_num = [5, 8, 11]\n",
    "organ_num = 0\n",
    "\n",
    "for s in slice_num:\n",
    "    pred = total_pred_masks_dann[index][organ_num,:,:,s]\n",
    "    original = total_original_masks_dann[index][organ_num,:,:,s]\n",
    "\n",
    "    hausdorff_distance_dann =  max(directed_hausdorff(pred, original)[0], directed_hausdorff(original, pred)[0])\n",
    "    print(hausdorff_distance_dann)\n"
   ]
  },
  {
   "cell_type": "code",
   "execution_count": 8,
   "metadata": {},
   "outputs": [
    {
     "ename": "ValueError",
     "evalue": "attempt to get argmin of an empty sequence",
     "output_type": "error",
     "traceback": [
      "\u001b[0;31m---------------------------------------------------------------------------\u001b[0m",
      "\u001b[0;31mValueError\u001b[0m                                Traceback (most recent call last)",
      "\u001b[0;32m<ipython-input-8-524bb6f064df>\u001b[0m in \u001b[0;36m<module>\u001b[0;34m()\u001b[0m\n\u001b[1;32m     10\u001b[0m     \u001b[0;32mreturn\u001b[0m \u001b[0mnp\u001b[0m\u001b[0;34m.\u001b[0m\u001b[0mmax\u001b[0m\u001b[0;34m(\u001b[0m\u001b[0mdist_lst\u001b[0m\u001b[0;34m)\u001b[0m\u001b[0;34m\u001b[0m\u001b[0;34m\u001b[0m\u001b[0m\n\u001b[1;32m     11\u001b[0m \u001b[0;34m\u001b[0m\u001b[0m\n\u001b[0;32m---> 12\u001b[0;31m \u001b[0mindex\u001b[0m \u001b[0;34m=\u001b[0m \u001b[0;34m(\u001b[0m\u001b[0mnp\u001b[0m\u001b[0;34m.\u001b[0m\u001b[0mabs\u001b[0m\u001b[0;34m(\u001b[0m\u001b[0mtotal_dice_dann\u001b[0m\u001b[0;34m-\u001b[0m\u001b[0mdice_cbct_test\u001b[0m\u001b[0;34m)\u001b[0m\u001b[0;34m)\u001b[0m\u001b[0;34m.\u001b[0m\u001b[0margmin\u001b[0m\u001b[0;34m(\u001b[0m\u001b[0;34m)\u001b[0m\u001b[0;34m\u001b[0m\u001b[0;34m\u001b[0m\u001b[0m\n\u001b[0m\u001b[1;32m     13\u001b[0m \u001b[0;34m\u001b[0m\u001b[0m\n\u001b[1;32m     14\u001b[0m \u001b[0mHausdorff_dist\u001b[0m\u001b[0;34m(\u001b[0m\u001b[0mtotal_pred_masks_dann\u001b[0m\u001b[0;34m[\u001b[0m\u001b[0mindex\u001b[0m\u001b[0;34m]\u001b[0m\u001b[0;34m,\u001b[0m\u001b[0mtotal_original_masks_dann\u001b[0m\u001b[0;34m[\u001b[0m\u001b[0mindex\u001b[0m\u001b[0;34m]\u001b[0m\u001b[0;34m)\u001b[0m\u001b[0;34m\u001b[0m\u001b[0;34m\u001b[0m\u001b[0m\n",
      "\u001b[0;31mValueError\u001b[0m: attempt to get argmin of an empty sequence"
     ]
    }
   ],
   "source": [
    "def Hausdorff_dist(vol_a,vol_b):\n",
    "    dist_lst = []\n",
    "    for idx in range(len(vol_a)):\n",
    "        dist_min = 1000.0        \n",
    "        for idx2 in range(len(vol_b)):\n",
    "            dist= np.linalg.norm(vol_a[idx]-vol_b[idx2])\n",
    "            if dist_min > dist:\n",
    "                dist_min = dist\n",
    "        dist_lst.append(dist_min)\n",
    "    return np.max(dist_lst)\n",
    "\n",
    "index = (np.abs(total_dice_dann-dice_cbct_test)).argmin()\n",
    "\n",
    "Hausdorff_dist(total_pred_masks_dann[index],total_original_masks_dann[index])"
   ]
  },
  {
   "cell_type": "markdown",
   "metadata": {},
   "source": [
    "### SOURCE"
   ]
  },
  {
   "cell_type": "code",
   "execution_count": 18,
   "metadata": {},
   "outputs": [
    {
     "name": "stdout",
     "output_type": "stream",
     "text": [
      "1.8858557148860546\n",
      "3.471862665721767\n",
      "3.6043171100977625\n"
     ]
    }
   ],
   "source": [
    "from scipy.spatial.distance import directed_hausdorff\n",
    "\n",
    "index = (np.abs(total_dice_source-dice_cbct_test)).argmin()\n",
    "\n",
    "slice_num = [5, 8, 11]\n",
    "organ_num = 0\n",
    "\n",
    "for s in slice_num:\n",
    "    pred = total_pred_masks_source[index][organ_num,:,:,s]\n",
    "    original = total_original_masks_source[index][organ_num,:,:,s]\n",
    "\n",
    "    hausdorff_distance_source =  max(directed_hausdorff(pred, original)[0], directed_hausdorff(original, pred)[0])\n",
    "    print(hausdorff_distance_source)"
   ]
  },
  {
   "cell_type": "code",
   "execution_count": 19,
   "metadata": {},
   "outputs": [
    {
     "data": {
      "text/plain": [
       "45.30666928104349"
      ]
     },
     "execution_count": 19,
     "metadata": {},
     "output_type": "execute_result"
    }
   ],
   "source": [
    "def Hausdorff_dist(vol_a,vol_b):\n",
    "    dist_lst = []\n",
    "    for idx in range(len(vol_a)):\n",
    "        dist_min = 1000.0        \n",
    "        for idx2 in range(len(vol_b)):\n",
    "            dist= np.linalg.norm(vol_a[idx]-vol_b[idx2])\n",
    "            if dist_min > dist:\n",
    "                dist_min = dist\n",
    "        dist_lst.append(dist_min)\n",
    "    return np.max(dist_lst)\n",
    "\n",
    "index = (np.abs(total_dice_source-dice_cbct_test)).argmin()\n",
    "\n",
    "Hausdorff_dist(total_pred_masks_source[index],total_original_masks_source[index])"
   ]
  },
  {
   "cell_type": "markdown",
   "metadata": {},
   "source": [
    "## TARGET"
   ]
  },
  {
   "cell_type": "code",
   "execution_count": 10,
   "metadata": {},
   "outputs": [
    {
     "data": {
      "text/plain": [
       "27.442560101808247"
      ]
     },
     "execution_count": 10,
     "metadata": {},
     "output_type": "execute_result"
    }
   ],
   "source": [
    "def Hausdorff_dist(vol_a,vol_b):\n",
    "    dist_lst = []\n",
    "    for idx in range(len(vol_a)):\n",
    "        dist_min = 1000.0        \n",
    "        for idx2 in range(len(vol_b)):\n",
    "            dist= np.linalg.norm(vol_a[idx]-vol_b[idx2])\n",
    "            if dist_min > dist:\n",
    "                dist_min = dist\n",
    "        dist_lst.append(dist_min)\n",
    "    return np.max(dist_lst)\n",
    "\n",
    "index = (np.abs(total_dice_target-dice_cbct_test)).argmin()\n",
    "\n",
    "Hausdorff_dist(total_pred_masks_target[index],total_original_masks_target[index])"
   ]
  },
  {
   "cell_type": "code",
   "execution_count": null,
   "metadata": {},
   "outputs": [],
   "source": []
  },
  {
   "cell_type": "markdown",
   "metadata": {},
   "source": [
    "## NEW HAUSDORFF DISTANCE"
   ]
  },
  {
   "cell_type": "code",
   "execution_count": 13,
   "metadata": {},
   "outputs": [
    {
     "data": {
      "text/plain": [
       "121.05139404401751"
      ]
     },
     "execution_count": 13,
     "metadata": {},
     "output_type": "execute_result"
    }
   ],
   "source": [
    "import numpy\n",
    "from scipy.ndimage import _ni_support\n",
    "from scipy.ndimage.morphology import distance_transform_edt, binary_erosion,\\\n",
    "    generate_binary_structure\n",
    "from scipy.ndimage.measurements import label, find_objects\n",
    "from scipy.stats import pearsonr\n",
    "\n",
    "\n",
    "def __surface_distances(result, reference, voxelspacing=None, connectivity=1):\n",
    "    \"\"\"\n",
    "    The distances between the surface voxel of binary objects in result and their\n",
    "    nearest partner surface voxel of a binary object in reference.\n",
    "    \"\"\"\n",
    "    result = numpy.atleast_1d(result.astype(numpy.bool))\n",
    "    reference = numpy.atleast_1d(reference.astype(numpy.bool))\n",
    "    if voxelspacing is not None:\n",
    "        voxelspacing = _ni_support._normalize_sequence(voxelspacing, result.ndim)\n",
    "        voxelspacing = numpy.asarray(voxelspacing, dtype=numpy.float64)\n",
    "        if not voxelspacing.flags.contiguous:\n",
    "            voxelspacing = voxelspacing.copy()\n",
    "            \n",
    "    # binary structure\n",
    "    footprint = generate_binary_structure(result.ndim, connectivity)\n",
    "    \n",
    "    # test for emptiness\n",
    "    if 0 == numpy.count_nonzero(result): \n",
    "        raise RuntimeError('The first supplied array does not contain any binary object.')\n",
    "    if 0 == numpy.count_nonzero(reference): \n",
    "        raise RuntimeError('The second supplied array does not contain any binary object.')    \n",
    "            \n",
    "    # extract only 1-pixel border line of objects\n",
    "    result_border = result ^ binary_erosion(result, structure=footprint, iterations=1)\n",
    "    reference_border = reference ^ binary_erosion(reference, structure=footprint, iterations=1)\n",
    "    \n",
    "    # compute average surface distance        \n",
    "    # Note: scipys distance transform is calculated only inside the borders of the\n",
    "    #       foreground objects, therefore the input has to be reversed\n",
    "    dt = distance_transform_edt(~reference_border, sampling=voxelspacing)\n",
    "    sds = dt[result_border]\n",
    "    \n",
    "    return sds\n",
    "\n",
    "\n",
    "\n",
    "\n",
    "\n",
    "def hd(result, reference, voxelspacing=None, connectivity=1):\n",
    "    \"\"\"\n",
    "    Hausdorff Distance.\n",
    "    \n",
    "    Computes the (symmetric) Hausdorff Distance (HD) between the binary objects in two\n",
    "    images. It is defined as the maximum surface distance between the objects.\n",
    "    \n",
    "    Parameters\n",
    "    ----------\n",
    "    result : array_like\n",
    "        Input data containing objects. Can be any type but will be converted\n",
    "        into binary: background where 0, object everywhere else.\n",
    "    reference : array_like\n",
    "        Input data containing objects. Can be any type but will be converted\n",
    "        into binary: background where 0, object everywhere else.\n",
    "    voxelspacing : float or sequence of floats, optional\n",
    "        The voxelspacing in a distance unit i.e. spacing of elements\n",
    "        along each dimension. If a sequence, must be of length equal to\n",
    "        the input rank; if a single number, this is used for all axes. If\n",
    "        not specified, a grid spacing of unity is implied.\n",
    "    connectivity : int\n",
    "        The neighbourhood/connectivity considered when determining the surface\n",
    "        of the binary objects. This value is passed to\n",
    "        `scipy.ndimage.morphology.generate_binary_structure` and should usually be :math:`> 1`.\n",
    "        Note that the connectivity influences the result in the case of the Hausdorff distance.\n",
    "        \n",
    "    Returns\n",
    "    -------\n",
    "    hd : float\n",
    "        The symmetric Hausdorff Distance between the object(s) in ```result``` and the\n",
    "        object(s) in ```reference```. The distance unit is the same as for the spacing of \n",
    "        elements along each dimension, which is usually given in mm.\n",
    "        \n",
    "    See also\n",
    "    --------\n",
    "    :func:`assd`\n",
    "    :func:`asd`\n",
    "    \n",
    "    Notes\n",
    "    -----\n",
    "    This is a real metric. The binary images can therefore be supplied in any order.\n",
    "    \"\"\"\n",
    "    hd1 = __surface_distances(result, reference, voxelspacing, connectivity).max()\n",
    "    hd2 = __surface_distances(reference, result, voxelspacing, connectivity).max()\n",
    "    hd = max(hd1, hd2)\n",
    "    return hd\n",
    "\n",
    "index = (np.abs(total_dice_source-dice_cbct_test)).argmin()\n",
    "\n",
    "vox = [4.8, 4.8, 6]\n",
    "\n",
    "hd(total_pred_masks_source[index], total_original_masks_source[index], voxelspacing=4.8, connectivity=1)"
   ]
  },
  {
   "cell_type": "markdown",
   "metadata": {},
   "source": [
    "### TARGET"
   ]
  },
  {
   "cell_type": "code",
   "execution_count": 12,
   "metadata": {},
   "outputs": [
    {
     "name": "stdout",
     "output_type": "stream",
     "text": [
      "0.000894184584811895\n",
      "0.008624035098381208\n",
      "1.0531590873301209\n"
     ]
    }
   ],
   "source": [
    "from scipy.spatial.distance import directed_hausdorff\n",
    "\n",
    "index = (np.abs(total_dice_target-dice_cbct_test)).argmin()\n",
    "\n",
    "slice_num = [5, 8, 11]\n",
    "organ_num = 0\n",
    "\n",
    "for s in slice_num:\n",
    "    pred = total_pred_masks_target[index][organ_num,:,:,s]\n",
    "    original = total_original_masks_target[index][organ_num,:,:,s]\n",
    "\n",
    "    hausdorff_distance_target =  max(directed_hausdorff(pred, original)[0], directed_hausdorff(original, pred)[0])\n",
    "    print(hausdorff_distance_target)"
   ]
  },
  {
   "cell_type": "code",
   "execution_count": 15,
   "metadata": {},
   "outputs": [
    {
     "name": "stdout",
     "output_type": "stream",
     "text": [
      "27.617473063001047\n",
      "27.617473063001047\n"
     ]
    }
   ],
   "source": [
    "def Hausdorff_dist(vol_a,vol_b):\n",
    "    dist_lst = []\n",
    "    for idx in range(len(vol_a)):\n",
    "        dist_min = 1000.0        \n",
    "        for idx2 in range(len(vol_b)):\n",
    "            dist= np.linalg.norm(vol_a[idx]-vol_b[idx2])\n",
    "            if dist_min > dist:\n",
    "                dist_min = dist\n",
    "        dist_lst.append(dist_min)\n",
    "    return np.max(dist_lst)\n",
    "\n",
    "print(Hausdorff_dist(total_pred_masks_target[index],total_original_masks_target[index]))\n",
    "print(Hausdorff_dist(total_original_masks_target[index],total_pred_masks_target[index]))"
   ]
  },
  {
   "cell_type": "markdown",
   "metadata": {},
   "source": [
    "# SYMMETRIC MEAN BOUNDARY DISTANCE"
   ]
  },
  {
   "cell_type": "markdown",
   "metadata": {},
   "source": [
    "## Target"
   ]
  },
  {
   "cell_type": "code",
   "execution_count": 34,
   "metadata": {},
   "outputs": [
    {
     "ename": "TypeError",
     "evalue": "only size-1 arrays can be converted to Python scalars",
     "output_type": "error",
     "traceback": [
      "\u001b[0;31m---------------------------------------------------------------------------\u001b[0m",
      "\u001b[0;31mTypeError\u001b[0m                                 Traceback (most recent call last)",
      "\u001b[0;32m<ipython-input-34-e1ebba508ac2>\u001b[0m in \u001b[0;36m<module>\u001b[0;34m()\u001b[0m\n\u001b[1;32m      7\u001b[0m     \u001b[0;32mfor\u001b[0m \u001b[0mj\u001b[0m \u001b[0;32min\u001b[0m \u001b[0mtotal_original_masks_target\u001b[0m\u001b[0;34m[\u001b[0m\u001b[0mindex\u001b[0m\u001b[0;34m]\u001b[0m\u001b[0;34m:\u001b[0m\u001b[0;34m\u001b[0m\u001b[0;34m\u001b[0m\u001b[0m\n\u001b[1;32m      8\u001b[0m \u001b[0;34m\u001b[0m\u001b[0m\n\u001b[0;32m----> 9\u001b[0;31m         \u001b[0mprint\u001b[0m\u001b[0;34m(\u001b[0m\u001b[0mdistance\u001b[0m \u001b[0;34m=\u001b[0m \u001b[0mmath\u001b[0m\u001b[0;34m.\u001b[0m\u001b[0msqrt\u001b[0m\u001b[0;34m(\u001b[0m\u001b[0mnp\u001b[0m\u001b[0;34m.\u001b[0m\u001b[0mint\u001b[0m\u001b[0;34m(\u001b[0m\u001b[0mi\u001b[0m\u001b[0;34m)\u001b[0m\u001b[0;34m-\u001b[0m\u001b[0mnp\u001b[0m\u001b[0;34m.\u001b[0m\u001b[0mint\u001b[0m\u001b[0;34m(\u001b[0m\u001b[0mj\u001b[0m\u001b[0;34m)\u001b[0m\u001b[0;34m**\u001b[0m\u001b[0;36m2\u001b[0m\u001b[0;34m)\u001b[0m \u001b[0;34m)\u001b[0m\u001b[0;34m\u001b[0m\u001b[0;34m\u001b[0m\u001b[0m\n\u001b[0m\u001b[1;32m     10\u001b[0m \u001b[0;34m\u001b[0m\u001b[0m\n",
      "\u001b[0;31mTypeError\u001b[0m: only size-1 arrays can be converted to Python scalars"
     ]
    }
   ],
   "source": [
    "import math\n",
    "\n",
    "\n",
    "# Compute distance from A to B in 3D\n",
    "total_distance = []\n",
    "for i in total_pred_masks_target[index]:\n",
    "    \n",
    "    \n",
    "    \n",
    "    for j in total_original_masks_target[index]:\n",
    "\n",
    "        print(distance = math.sqrt(np.int(i)-np.int(j)**2) )\n",
    "        \n"
   ]
  },
  {
   "cell_type": "code",
   "execution_count": 29,
   "metadata": {},
   "outputs": [
    {
     "name": "stdout",
     "output_type": "stream",
     "text": [
      "73.59551848402926\n"
     ]
    },
    {
     "data": {
      "text/plain": [
       "4"
      ]
     },
     "execution_count": 29,
     "metadata": {},
     "output_type": "execute_result"
    }
   ],
   "source": [
    "def SMBD(vol_a,vol_b):\n",
    "    total_distance = []\n",
    "    for idx in range(len(vol_a)):     \n",
    "        for idx2 in range(len(vol_b)):\n",
    "            dist= np.linalg.norm(vol_a[idx]-vol_b[idx2])\n",
    "            total_distance.append(dist)\n",
    "    return np.mean(total_distance)\n",
    "\n",
    "print(SMBD(total_pred_masks_target[index],total_original_masks_target[index]))\n",
    "print(SMBD(total_original_masks_target[index],total_pred_masks_target[index]))\n",
    "\n"
   ]
  },
  {
   "cell_type": "markdown",
   "metadata": {},
   "source": [
    "## DANN"
   ]
  },
  {
   "cell_type": "code",
   "execution_count": 37,
   "metadata": {},
   "outputs": [
    {
     "name": "stderr",
     "output_type": "stream",
     "text": [
      "/export/share/anaconda3/lib/python3.6/site-packages/ipykernel_launcher.py:23: DeprecationWarning: `imfilter` is deprecated!\n",
      "`imfilter` is deprecated in SciPy 1.0.0, and will be removed in 1.2.0.\n",
      "Use Pillow filtering functionality directly.\n"
     ]
    },
    {
     "name": "stdout",
     "output_type": "stream",
     "text": [
      "[165.94746157]\n",
      "[59.66305389]\n",
      "[31.15114708]\n"
     ]
    }
   ],
   "source": [
    "from scipy.spatial.distance import cdist\n",
    "from scipy.misc import imfilter\n",
    "spacing = [4.8, 4.8, 6]\n",
    "\n",
    "index = (np.abs(total_dice_dann-dice_cbct_test)).argmin()\n",
    "slice_num = 5\n",
    "organ_num = 0\n",
    "metrics = {}\n",
    "\n",
    "def mask2contours(mask):\n",
    "    sh = mask.shape\n",
    "    contours = np.zeros((sh[0],sh[1],sh[2]))\n",
    "    n_slices = sh[2]\n",
    "    \n",
    "    for s in range(n_slices):\n",
    "        if s>0 and np.sum(mask[:,:,s-1].flatten())==0:\n",
    "            contours[:,:,s] = mask[:,:,s]\n",
    "        \n",
    "        elif s<(n_slices-1) and np.sum(mask[:,:,s+1].flatten())==0:\n",
    "            contours[:,:,s] = mask[:,:,s]\n",
    "        else:\n",
    "            diff = np.abs(mask[:,:,s]*1 - mask[:,:,s-1]*1)>0\n",
    "            imf = imfilter(mask[:,:,s].astype('int'), 'find_edges')\n",
    "            if np.sum(diff.flatten()>0):\n",
    "                contours[:,:,s] = (diff+imf)>0\n",
    "            else:\n",
    "                contours[:, :, s] = imf\n",
    "    return contours\n",
    "\n",
    "metrics['HDs'] = np.zeros(1)\n",
    "metrics['HD95s'] = np.zeros(1)\n",
    "metrics['HDmeans'] = np.zeros(1)\n",
    "\n",
    "pred_contours = mask2contours(total_pred_masks_dann[index][organ_num,:,:,:])\n",
    "mask_contours = mask2contours(total_original_masks_dann[index][organ_num,:,:,:])\n",
    "coord1 = np.argwhere(mask_contours)*np.asarray(spacing)\n",
    "coord2 = np.argwhere(pred_contours)*np.asarray(spacing)\n",
    "Y = cdist(coord1,coord2)\n",
    "if Y.shape[1]>0:\n",
    "    DAB = np.min(Y,axis=1)\n",
    "    DBA = np.min(Y,axis=0)\n",
    "    metrics['HDs'][organ_num] = np.max([np.max(DAB), np.max(DBA)])\n",
    "    metrics['HD95s'][organ_num] = np.mean([np.percentile(DAB, 95), np.percentile(DBA, 95)])\n",
    "    metrics['HDmeans'][organ_num] = np.mean([np.mean(DAB), np.mean(DBA)])\n",
    "else:\n",
    "    metrics['HDs'][organ_num] = None\n",
    "    metrics['HD95s'][organ_num] = None\n",
    "    metrics['HDmeans'][organ_num] = None\n",
    "\n",
    "print( metrics['HDs'])\n",
    "print( metrics['HD95s'])\n",
    "print( metrics['HDmeans'])"
   ]
  },
  {
   "cell_type": "markdown",
   "metadata": {},
   "source": [
    "## Plottings"
   ]
  },
  {
   "cell_type": "code",
   "execution_count": 23,
   "metadata": {},
   "outputs": [
    {
     "data": {
      "text/plain": [
       "<matplotlib.image.AxesImage at 0x7fd464080be0>"
      ]
     },
     "execution_count": 23,
     "metadata": {},
     "output_type": "execute_result"
    },
    {
     "data": {
      "image/png": "[encoded data removed]",
      "text/plain": [
       "<Figure size 1440x720 with 3 Axes>"
      ]
     },
     "metadata": {},
     "output_type": "display_data"
    }
   ],
   "source": [
    "import imageio\n",
    "import cv2\n",
    "from scipy.misc import toimage, imsave\n",
    "from PIL import Image\n",
    "\n",
    "src_dir = '/DATA/public/bladder_40_40_32'\n",
    "\n",
    "image = np.load(src_dir + '/cbct_test_1-image.npy')\n",
    "mask = np.load(src_dir + '/cbct_test_1-mask.npy')\n",
    "\n",
    "slice_num = 16\n",
    "organ_num = 0\n",
    "plt.figure(figsize=(20,10), frameon=False)\n",
    "\n",
    "# ------- PRINT ORIGINAL CBCT IMAGE -------------------\n",
    "plt.subplot(2,2,1)\n",
    "plt.imshow(image[:,:,slice_num], cmap='gray')\n",
    "\n",
    "# ------- PRINT ORIGINAL CBCT MASK -------------------\n",
    "plt.subplot(2,2,2)\n",
    "plt.imshow(mask[:,:,slice_num], cmap='gray')\n",
    "\n",
    "# ------- OVERLAPPED ORIGINALS CBCT -------------------\n",
    "# Load the image and convert it to grayscale:\n",
    "image_original = cv2.imread(\"cbct_image.png\")\n",
    "image = cv2.imread(\"cbct_mask.png\")\n",
    "gray_image = cv2.cvtColor(image, cv2.COLOR_BGR2GRAY)\n",
    "\n",
    "# Apply cv2.threshold() to get a binary image\n",
    "ret, thresh = cv2.threshold(gray_image, 50, 255, cv2.THRESH_BINARY)\n",
    "\n",
    "# Find contours:\n",
    "im, contours, hierarchy = cv2.findContours(thresh, cv2.RETR_EXTERNAL, cv2.CHAIN_APPROX_NONE)\n",
    "\n",
    "# Draw contours:\n",
    "cv2.drawContours(image_original, contours, 0, (0, 255, 0), 1)\n",
    "\n",
    "# Show image:\n",
    "plt.subplot(2,2,3)\n",
    "plt.imshow(image_original)\n",
    "\n",
    "# ------- OVERLAP PREDICTED SEGMENTATION MASK -------------------\n",
    "\n"
   ]
  },
  {
   "cell_type": "code",
   "execution_count": null,
   "metadata": {},
   "outputs": [],
   "source": []
  },
  {
   "cell_type": "code",
   "execution_count": null,
   "metadata": {},
   "outputs": [],
   "source": []
  },
  {
   "cell_type": "code",
   "execution_count": null,
   "metadata": {},
   "outputs": [],
   "source": []
  }
 ],
 "metadata": {
  "kernelspec": {
   "display_name": "Python 3",
   "language": "python",
   "name": "python3"
  },
  "language_info": {
   "codemirror_mode": {
    "name": "ipython",
    "version": 3
   },
   "file_extension": ".py",
   "mimetype": "text/x-python",
   "name": "python",
   "nbconvert_exporter": "python",
   "pygments_lexer": "ipython3",
   "version": "3.6.9"
  },
  "toc": {
   "base_numbering": 1,
   "nav_menu": {},
   "number_sections": false,
   "sideBar": false,
   "skip_h1_title": false,
   "title_cell": "Table of Contents",
   "title_sidebar": "Contents",
   "toc_cell": false,
   "toc_position": {},
   "toc_section_display": false,
   "toc_window_display": false
  }
 },
 "nbformat": 4,
 "nbformat_minor": 1
}
